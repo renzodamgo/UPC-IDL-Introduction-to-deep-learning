{
  "cells": [
    {
      "cell_type": "markdown",
      "metadata": {
        "id": "kDiqJr-m4ZHu"
      },
      "source": [
        "# Tarea Académica 1 (TA1)\n",
        "\n",
        "**Curso:** CC227 - Introduction to Deep Learning\n",
        "\n",
        "**Profesor:** Jhosimar George Arias Figueroa\n",
        "\n",
        "*Universidad Peruana de Ciencias Aplicadas (UPC)*\n",
        "\n",
        "---\n",
        "\n",
        "## Datos del Alumno\n",
        "\n",
        "**Nombres y Apellidos:** *Renzo Damian*\n",
        "\n",
        "**Código:** *u201715785*\n",
        "\n",
        "---\n",
        "## Fecha de Entrega \n",
        "\n",
        "Puede entregar el trabajo hasta el día **Lunes 05 de Setiembre del 2022** hasta las 23:59 horas.\n",
        "\n",
        "## Nombre del archivo\n",
        "\n",
        "Deberá subir su trabajo con el nombre **u201715785_TA1**\n",
        "\n",
        "## Sobre el trabajo\n",
        "\n",
        "Puede acceder a la versión del trabajo en colab desde [aquí](https://colab.research.google.com/drive/1UeW4NTvGNn4WYku8cGG7jn9hCaWqAMpJ?usp=sharing).\n",
        "\n",
        "Deberá sacar una copia a este notebook desde \"Archivo -> Guardar una copia en Drive\", y deberá completar todas las líneas de código que contengan comentarios TODO o esten inicializadas como None.\n",
        "\n",
        "## Objetivos\n",
        "\n",
        "En este trabajo implementará un clasificador de regresión logística usando operaciones sobre tensores y funciones predefinidas de PyTorch. Los objetivos del trabajo son los siguientes:\n",
        "\n",
        "- Aprenderá a implementar formulaciones matemáticas de forma eficiente usando tensores de PyTorch\n",
        "- Repasará conceptos básicos de machine learning que serán necesarios en futuros trabajos\n",
        "- Conocerá el flujo de trabajo usado al entrenar redes neuronales simples\n",
        "- Se familiarizará más con las funciones predefinidas de PyTorch y su simplicidad\n",
        "- Implementará todo el proceso, desde particionamiento de datos hasta las métricas de evaluación, usando diferentes operaciones y métodos de PyTorch\n",
        "\n",
        "## Calificación\n",
        "\n",
        "La nota del trabajo está basada en el puntaje total obtenido en este notebook y está dividido de la siguiente manera:\n",
        "\n",
        "#### Preparación del conjunto de datos (2 puntos)\n",
        "\n",
        "- Convertir la data a tensores (1 punto)\n",
        "- Particionamiento de datos (1 punto)\n",
        "\n",
        "#### Regresión logística desde cero (12 puntos)\n",
        "\n",
        "- Función de Activación (1 punto)\n",
        "- Inicialización de parámetros (1 punto)\n",
        "- Definición del Modelo (1 punto)\n",
        "- Función de Pérdida (1 punto)\n",
        "- Optimización (3 puntos)\n",
        "- Entrenamiento (3 puntos)\n",
        "- Predicción (1 punto)\n",
        "- Métrica de Evaluación (1 punto)\n",
        "\n",
        "#### Regresión logística usando métodos predefinidos (6 puntos)\n",
        "\n",
        "- Modelo (1.5 puntos)\n",
        "- Función de Pérdida (0.5 puntos)\n",
        "- Gradiente Descendente Estocástico (0.5 puntos)\n",
        "- Entrenamiento (2 puntos)\n",
        "- Predicción (0.5 puntos)\n",
        "- Métrica de Evaluación (0.5 puntos)\n",
        "- Prueba Final (0.5 puntos)\n",
        "\n",
        "El puntaje total es de $20$. \n",
        "\n",
        "*Los puntajes de la segunda parte son más bajos debido a que los métodos se implementan de manera similar a los de la primera parte del trabajo. La diferencia es que los parámetros no se usan explicitamente ya que están encapsulados en los módulos de PyTorch.*\n"
      ]
    },
    {
      "cell_type": "markdown",
      "metadata": {
        "id": "4IXxhUgUupWD"
      },
      "source": [
        "# Clasificador de Regresión Logística\n",
        "\n",
        "Este trabajo está basado en la implementación del clasificador de regresión logística el cual será aplicado sobre un conjunto de datos sintéticos. El flujo de trabajo se puede visualizar en la siguiente imagen:\n",
        "\n",
        "<p align=\"center\">\n",
        "<img src=\"https://drive.google.com/uc?export=view&id=1Uyzxq2Dez-5BW9yLOyCdyVfnwvg3BUZy\" width=\"1000px\" />\n",
        "<p/>\n",
        "\n",
        "*Si no puede visualizar la imagen haga click [aqui](https://drive.google.com/uc?export=view&id=1Uyzxq2Dez-5BW9yLOyCdyVfnwvg3BUZy)*"
      ]
    },
    {
      "cell_type": "markdown",
      "metadata": {
        "id": "MKq-llMyJUsP"
      },
      "source": [
        "## Importación de bibliotecas\n",
        "\n",
        "Empecemos importando las bibliotecas que serán usadas en este trabajo `numpy`, `matplotlib` y `torch`."
      ]
    },
    {
      "cell_type": "code",
      "execution_count": 1,
      "metadata": {
        "id": "q5ven54VJgzg"
      },
      "outputs": [],
      "source": [
        "%matplotlib inline\n",
        "import matplotlib.pyplot as plt # visualizaciones\n",
        "import torch # operaciones sobre tensores\n",
        "import random # para números aleatorios\n",
        "from sklearn.datasets import make_classification # generación de datos\n",
        "from sklearn.datasets import make_blobs # generación de datos\n",
        "from matplotlib.colors import ListedColormap # mapas de color"
      ]
    },
    {
      "cell_type": "markdown",
      "metadata": {
        "id": "pk4-SHPOWEIu"
      },
      "source": [
        "## Seeds para reproducibilidad\n",
        "\n",
        "Un paso muy importante a la hora de implementar nuestros modelos es el uso de `seeds` que permitirá reproducir los resultados obtenidos."
      ]
    },
    {
      "cell_type": "code",
      "execution_count": 2,
      "metadata": {
        "id": "06tqtCEHWZ68"
      },
      "outputs": [],
      "source": [
        "# Función para establecer el \"seed\"\n",
        "def set_seed(seed):\n",
        "  random.seed(seed)        # seed para generación de números aleatorios\n",
        "  torch.manual_seed(seed)  # seed de torch\n",
        "\n",
        "set_seed(42)"
      ]
    },
    {
      "cell_type": "markdown",
      "metadata": {
        "id": "8k8js2tJICHw"
      },
      "source": [
        "## Preparación del conjunto de datos\n",
        "\n",
        "En esta sección generaremos un conjunto de datos artificial, el cual convertirá a tensores y lo particionará en conjuntos de entrenamiento, validación y prueba."
      ]
    },
    {
      "cell_type": "markdown",
      "metadata": {
        "id": "3JmZo02RManY"
      },
      "source": [
        "### Generación del conjunto de datos\n",
        "\n",
        "Antes de iniciar con la implementación, generaremos un conjunto de datos. Para simplificar las cosas, construiremos un conjunto de datos artificial. Mantendremos los datos de dimensiones reducidas para que podamos visualizarlos fácilmente.\n",
        "\n",
        "En el siguiente código, generamos un conjunto de datos que contiene 1000 muestras, cada uno de los cuales consta de 2 características. Por lo tanto, nuestro conjunto de datos sintéticos será una matriz $\\mathbf{X}\\in \\mathbb{R}^{1000 \\times 2}$.\n",
        "\n",
        "La clase roja tendrá la etiqueta 1 y la clase azul la etiqueta 0. Para generar los datos usaremos `scikit-learn`, no usaremos esta biblioteca para otros fines."
      ]
    },
    {
      "cell_type": "code",
      "execution_count": 3,
      "metadata": {
        "colab": {
          "base_uri": "https://localhost:8080/",
          "height": 265
        },
        "id": "ZIpwlpY2NWZX",
        "outputId": "428d81fe-75d4-4bff-e6ea-6731dd3384e2"
      },
      "outputs": [
        {
          "data": {
            "image/png": "[encoded data removed]",
            "text/plain": [
              "<Figure size 640x480 with 1 Axes>"
            ]
          },
          "metadata": {},
          "output_type": "display_data"
        }
      ],
      "source": [
        "# Crear mapas de color para visualización\n",
        "cmap_light = ListedColormap(['#AAAAFF', '#FFAAAA'])\n",
        "cmap_bold = ListedColormap(['#0000FF', '#FF0000'])\n",
        "\n",
        "# Generamos data aleatoria\n",
        "X_array, y_array = make_blobs(1000, 2, centers=2, random_state=10, cluster_std = 2.5)\n",
        "X_array = X_array - 10\n",
        "\n",
        "# Visualizamos la data generada\n",
        "plt.scatter(X_array[:, 0], X_array[:, 1], c=y_array, s=5, cmap=cmap_bold)\n",
        "plt.show()"
      ]
    },
    {
      "cell_type": "markdown",
      "metadata": {
        "id": "UXB_TwQlNdOo"
      },
      "source": [
        "Podemos observar que la data es linealmente separable. Por lo tanto, se espera encontrar el límite de decisión óptimo."
      ]
    },
    {
      "cell_type": "markdown",
      "metadata": {
        "id": "ZsUbMVBhOE4C"
      },
      "source": [
        "### Convertir la data a tensores (1 punto)\n",
        "\n",
        "La data generada es una lista de listas de python. Sin embargo, trabajará con tensores. Por lo tanto, será necesario convertir la data a tensores: "
      ]
    },
    {
      "cell_type": "code",
      "execution_count": 4,
      "metadata": {
        "colab": {
          "base_uri": "https://localhost:8080/"
        },
        "id": "N9EAQU_rO3e4",
        "outputId": "2bb58dc9-01da-4aab-d1c6-127392ea05c2"
      },
      "outputs": [
        {
          "name": "stdout",
          "output_type": "stream",
          "text": [
            "Tamaño del dataset:  torch.Size([1000, 2])\n",
            "Tamaño de las etiquetas:  torch.Size([1000, 1])\n"
          ]
        }
      ],
      "source": [
        "# TODO: Convertir los arreglos X_array y y_array a tensores\n",
        "#       especificar el tipo de dato como torch.float para ambos\n",
        "#       datos (X) y etiquetas (y_true) \n",
        "X = torch.tensor(X_array, dtype=torch.float)\n",
        "y = torch.tensor(y_array, dtype=torch.float)\n",
        "\n",
        "# TODO: Actualmente 'y' es un vector de dimensión (n), deberá convertir\n",
        "#       este vector a su forma matricial. Puede usar .view o .reshape\n",
        "#       El tamaño deseado es (n,1)\n",
        "y = torch.reshape(y, (y.shape[0], 1))\n",
        "\n",
        "# Verificación de implementación\n",
        "assert(torch.is_tensor(X) == True)\n",
        "assert(torch.is_tensor(y) == True)\n",
        "assert(X.dtype == torch.float)\n",
        "assert(y.dtype == torch.float)\n",
        "assert(y.shape == (X.shape[0],1))\n",
        "\n",
        "print('Tamaño del dataset: ', X.shape)\n",
        "print('Tamaño de las etiquetas: ', y.shape)"
      ]
    },
    {
      "cell_type": "markdown",
      "metadata": {
        "id": "PdFe0exNN-73"
      },
      "source": [
        "### Particionamiento de datos (1 punto)\n",
        "\n",
        "Como no contamos con un conjunto de datos de validación y de prueba, el primer paso es particionar los datos.\n",
        "\n",
        "#### Particionamiento Hold-out\n",
        "\n",
        "Particionaremos el conjunto de datos en entrenamiento y prueba. Para ello, adicionaremos un parámetro `train_size` con valores entre $0$ y $1$ que indica el porcentaje de datos a considerar en la data de entrenamiento. Por ejemplo, si tenemos $1000$ datos y especificamos `train_size` igual a $0.8$. Entonces el método retornará dos conjuntos de datos: $(X_{train}, y_{train})$ y $(X_{test}, y_{test})$ con $800$ y $200$ muestras respectivamente."
      ]
    },
    {
      "cell_type": "code",
      "execution_count": 5,
      "metadata": {
        "id": "A2fbypLNQiTW"
      },
      "outputs": [],
      "source": [
        "def train_test_split(X, y, train_size=0.8):\n",
        "  '''\n",
        "    Este método permite dividir un conjunto de datos (X,y) en dos conjuntos \n",
        "    de datos (X_train, y_train) y (X_test, y_test) dada la proporción de datos \n",
        "    de entrenamiento deseado. \n",
        "\n",
        "    Es necesario aleatorizar los datos antes de realizar la división.\n",
        "    \n",
        "    Args:\n",
        "      - X: dataset de dimensión (n, m), donde n es el número de muestras y\n",
        "           m es el número de características.\n",
        "      - y: arreglo de dimensión (n), donde n es el número de muestras. Este\n",
        "           arreglo contiene las etiquetas (clases) de la data.\n",
        "      - train_size: representa la proporción del conjunto de datos a incluir en \n",
        "                    la data de entrenamiento.\n",
        "\n",
        "    Returns:\n",
        "      - X_train: tensor de dimensión (n_train, m)\n",
        "      - y_train: tensor de dimensión (n_train)\n",
        "      - X_test: tensor de dimensión (n_val, m)\n",
        "      - y_test: tensor de dimensióm (n_val)\n",
        "\n",
        "    Note: \n",
        "      - Los datos particionados deben sumar el total (n_train+n_val = n)\n",
        "      - Implementar el método usando solo operaciones de tensores de torch.\n",
        "      - No es válido usar métodos como split o random_split\n",
        "      - A continuación se deja una plantilla que puede usar, pero no es\n",
        "        obligatorio, puede realizar la implementación como mejor le parezca.\n",
        "  '''\n",
        "  n = X.shape[0]\n",
        "\n",
        "  # TODO: Crear una lista de índices aleatorios de los datos. Puede usar torch.randperm\n",
        "  indices = torch.randperm(n)\n",
        "\n",
        "  # TODO: Definir el número de muestras de la data de entrenamiento\n",
        "  n_train = int(n*train_size)\n",
        "\n",
        "\n",
        "  # TODO: Seleccionar los índices que se usarán en la data de entrenamiento y de prueba\n",
        "  train_indices = indices[:n_train]\n",
        "  test_indices = indices[n_train:]\n",
        "\n",
        "  # TODO: Particionar los datos usando los índices seleccionados anteriormente\n",
        "  X_train, y_train = X[train_indices], y[train_indices]\n",
        "  X_test, y_test = X[test_indices], y[test_indices]\n",
        "\n",
        "  # Retornamos los conjuntos de datos particionados\n",
        "  return X_train, y_train, X_test, y_test"
      ]
    },
    {
      "cell_type": "markdown",
      "metadata": {
        "id": "EzH0K6SmKkHw"
      },
      "source": [
        "Verifiquemos si las dimensiones del método de particionamiento implementado son las correctas:"
      ]
    },
    {
      "cell_type": "code",
      "execution_count": 6,
      "metadata": {
        "colab": {
          "base_uri": "https://localhost:8080/"
        },
        "id": "OFRiusdRKmTK",
        "outputId": "f9996941-47bc-490a-801b-4755eb3a5e72"
      },
      "outputs": [
        {
          "name": "stdout",
          "output_type": "stream",
          "text": [
            ":) Las dimensiones del particionamiento son correctas.\n"
          ]
        }
      ],
      "source": [
        "# Test para probar la implementación del particionamiento de datos\n",
        "train_sizes = [0.2, 0.3, 0.4, 0.5, 0.6, 0.7, 0.75, 0.8, 0.85, 0.9]\n",
        "correct = True\n",
        "for train_size in train_sizes:\n",
        "  _X_train, _y_train, _X_test, _y_test = train_test_split(X, y, train_size)\n",
        "  difference = X.shape[0] - _X_train.shape[0] - _X_test.shape[0]\n",
        "  difference_y = y.shape[0] - _y_train.shape[0] - _y_test.shape[0]\n",
        "  if difference != 0 or difference_y != 0:\n",
        "    print(':( Las dimensiones del particionamiento no son correctas.\\n')\n",
        "    print(f'Total: ({X.shape},{y.shape})')\n",
        "    print(f'Train: ({_X_train.shape},{_y_train.shape})')\n",
        "    print(f'Test: ({_X_test.shape},{_y_test.shape})')\n",
        "    correct = False\n",
        "    break\n",
        "  elif _y_train.shape[1] != 1 or _y_test.shape[1] != 1:\n",
        "    print(':( Las dimensiones de las etiquetas no son correctas.\\n')\n",
        "    print(f'y train: {_y_train.shape}')\n",
        "    print(f'y test: {_y_test.shape}')\n",
        "if correct:\n",
        "  print(':) Las dimensiones del particionamiento son correctas.')"
      ]
    },
    {
      "cell_type": "markdown",
      "metadata": {
        "id": "Ib-dZg0jZTOc"
      },
      "source": [
        "Realizaremos el particionamiento de los datos considerando 60% para entrenamiento, 20% para validación y 20% para prueba:"
      ]
    },
    {
      "cell_type": "code",
      "execution_count": 7,
      "metadata": {
        "colab": {
          "base_uri": "https://localhost:8080/"
        },
        "id": "bYBJYetPY0qS",
        "outputId": "a4399dfb-1e60-4d00-c849-df590c3266f9"
      },
      "outputs": [
        {
          "name": "stdout",
          "output_type": "stream",
          "text": [
            "Tamaño original del dataset: torch.Size([1000, 2])\n",
            "---------------------------\n",
            "Tamaño de la data de entrenamiento: torch.Size([600, 2])\n",
            "Tamaño de la data de validación: torch.Size([200, 2])\n",
            "Tamaño de la data de prueba: torch.Size([200, 2])\n"
          ]
        }
      ],
      "source": [
        "# Particionamos el conjunto de datos en entrenamiento (train), validación (val)\n",
        "# y prueba (test)\n",
        "_X_train, _y_train, X_test, y_test = train_test_split(X, y, train_size=0.8)\n",
        "X_train, y_train, X_val, y_val = train_test_split(_X_train, _y_train, train_size=0.75)\n",
        "\n",
        "print('Tamaño original del dataset:', X.shape)\n",
        "print('---------------------------')\n",
        "print('Tamaño de la data de entrenamiento:', X_train.shape)\n",
        "print('Tamaño de la data de validación:', X_val.shape)\n",
        "print('Tamaño de la data de prueba:', X_test.shape)"
      ]
    },
    {
      "cell_type": "markdown",
      "metadata": {
        "id": "eGy0aKHLZj4U"
      },
      "source": [
        "### Visualización del conjunto de datos\n",
        "\n",
        "Procederemos con la visualización de los particionamientos previamente realizados. En este paso solo mostraremos la data de entrenamiento y de validación para saber el tipo de clasificación que necesitamos realizar. La data de prueba solo la usaremos al final de este trabajo."
      ]
    },
    {
      "cell_type": "code",
      "execution_count": 8,
      "metadata": {
        "colab": {
          "base_uri": "https://localhost:8080/",
          "height": 336
        },
        "id": "hN_eR7RvZoVF",
        "outputId": "9bc91f2e-c9ff-4587-8ffc-2fd407a0beb5"
      },
      "outputs": [
        {
          "data": {
            "image/png": "[encoded data removed]",
            "text/plain": [
              "<Figure size 1500x500 with 2 Axes>"
            ]
          },
          "metadata": {},
          "output_type": "display_data"
        }
      ],
      "source": [
        "def plot_dataset(X_train, y_train, X_test, y_test, is_validation=True):\n",
        "  \"\"\"\n",
        "    Este método permite visualizar nuestros datos de entrenamiento y prueba\n",
        "  \"\"\"\n",
        "  plt.subplots(figsize =(15, 5))\n",
        "  #plt.subplots(figsize =(11, 4))\n",
        "  plt.subplot(1, 2, 1)\n",
        "  plt.scatter(X_train[:, 0], X_train[:, 1], c=y_train, s=8, cmap=cmap_bold)  \n",
        "  plt.title('Data de Entrenamiento')\n",
        "  plt.subplot(1, 2, 2)\n",
        "  plt.scatter(X_test[:,0], X_test[:,1], s=8)\n",
        "  if is_validation:\n",
        "    plt.title('Data de Validación')\n",
        "  else:\n",
        "    plt.title('Data de Prueba')\n",
        "  plt.show()\n",
        "\n",
        "plot_dataset(X_train.numpy(), y_train.numpy(), X_val.numpy(), y_val.numpy())"
      ]
    },
    {
      "cell_type": "markdown",
      "metadata": {
        "id": "y_WmmnQhbL7T"
      },
      "source": [
        "## Regresión logística desde cero (12 puntos)\n",
        "\n",
        "En esta sección implementará el método desde cero incluyendo el modelo, la función de pérdida y el optimizador de gradiente descendente. Si bien los frameworks de deep learning modernos pueden automatizar casi todo este trabajo, implementar las cosas desde cero es la única forma de asegurarnos de que realmente sabemos lo que estamos haciendo. \n",
        "\n",
        "La implementación estará basada solamente en operaciones sobre tensores, no es válido usar paquetes como `torch.nn` o `torch.optim`. Más adelante, realizará una implementación más concisa, aprovechando los métodos ya definidos de PyTorch. "
      ]
    },
    {
      "cell_type": "markdown",
      "metadata": {
        "id": "Exwr4QGWcgrQ"
      },
      "source": [
        "### Función de Activación (1 punto)\n",
        "\n",
        "La función de activación usada en regresión logística es la función sigmoidea:\n",
        "\n",
        "\\begin{align*}\n",
        "\\sigma(z) = \\frac{1}{1+e^{-z}}\n",
        "\\end{align*}\n",
        "\n",
        "A continuación, deberá implementar esta función:"
      ]
    },
    {
      "cell_type": "code",
      "execution_count": 9,
      "metadata": {
        "id": "sU2bDXqsc80Q"
      },
      "outputs": [],
      "source": [
        "def sigmoid(z):\n",
        "  '''\n",
        "    Este método implementa la función sigmoidea\n",
        "    \n",
        "    Args:\n",
        "      - z: un escalar o tensor de torch de tamaño variable\n",
        "\n",
        "    Returns:\n",
        "      - un escalar o tensor del mismo tamaño de z\n",
        "\n",
        "  '''\n",
        "  #TODO: Implemente la función sigmoidea\n",
        "  s = 1 / (1+ torch.exp(-z))\n",
        "\n",
        "  assert(torch.is_tensor(s) == True)\n",
        "  assert(s.shape == z.shape)\n",
        "  return s"
      ]
    },
    {
      "cell_type": "markdown",
      "metadata": {
        "id": "I6bHZcQ_dxi6"
      },
      "source": [
        "Recordemos que la idea principal de la función sigmoidea es que ajusta los valores entre 0 y 1. La función tiene una \"forma de s\" muy característica, que rápidamente va a 1 cuando z tiene al +∞ o va a 0 cuando z tiene al -∞. Esto hace que la función sea muy adecuada para la clasificación binaria. A continuación visualizaremos la función:"
      ]
    },
    {
      "cell_type": "code",
      "execution_count": 10,
      "metadata": {
        "colab": {
          "base_uri": "https://localhost:8080/",
          "height": 295
        },
        "id": "hKLVADGXd8rf",
        "outputId": "4f5dbb63-a197-4f97-b37e-26a5ff8cae9e"
      },
      "outputs": [
        {
          "data": {
            "image/png": "[encoded data removed]",
            "text/plain": [
              "<Figure size 640x480 with 1 Axes>"
            ]
          },
          "metadata": {},
          "output_type": "display_data"
        }
      ],
      "source": [
        "# Valores entre -15 y 15\n",
        "z = torch.arange(-15, 15)\n",
        "# Aplicamos la función sigmoide a los valores generados\n",
        "s = sigmoid(z)\n",
        "\n",
        "plt.plot(z.numpy(), s.numpy(), marker='o')\n",
        "plt.title('Sigmoid function')\n",
        "plt.xlabel('z')\n",
        "plt.ylabel('sigmoid(z)')\n",
        "plt.show()"
      ]
    },
    {
      "cell_type": "markdown",
      "metadata": {
        "id": "eJ58jCDyd8KF"
      },
      "source": [
        "### Inicialización de parámetros (1 punto)\n",
        "\n",
        "Un paso importante es la inicialización de parámetros que deberá implementar en la siguiente función:"
      ]
    },
    {
      "cell_type": "code",
      "execution_count": 11,
      "metadata": {
        "id": "U4rXfivxfhdK"
      },
      "outputs": [],
      "source": [
        "def initialize_params(m):\n",
        "  \"\"\"\n",
        "    Este método crea dos tensores representando los pesos y el bias. \n",
        "    Inicializamos los pesos muestreando números aleatorios de una distribución \n",
        "    normal con media 0 y una desviación estándar de 0.01, y el bias con un \n",
        "    valor igual a 0. \n",
        "    \n",
        "    Considerar que los pesos (w) tienen una dimensión de (m, 1) y el bias \n",
        "    tiene una dimensión de (1,)\n",
        "\n",
        "    Args:\n",
        "      - m: tamaño del tensor w que crearemos (número de características)\n",
        "    \n",
        "    Returns:\n",
        "      - w: tensor de dimensión (m, 1)\n",
        "      - b: tensor de dimensión (1,)\n",
        "  \"\"\"\n",
        "  # TODO: Inicializar los pesos 'w' muestreando números aleatorios de una\n",
        "  #       distribución normal com media 0 y desviación estándar 0.01.\n",
        "  #       Puede usar métodos definidos de pytorch\n",
        "  w = torch.normal(mean=torch.zeros(m, 1), std=0.01)\n",
        "\n",
        "  # TODO: Inicializar el bias 'b' con zeros\n",
        "  b = torch.zeros(1,)\n",
        "  \n",
        "  # Verificamos la implementación\n",
        "  assert(w.shape == (m, 1))\n",
        "  assert(b.shape == (1,))\n",
        "  assert(torch.is_tensor(w))\n",
        "  assert(torch.is_tensor(b))\n",
        "\n",
        "  return w, b"
      ]
    },
    {
      "cell_type": "code",
      "execution_count": 12,
      "metadata": {
        "colab": {
          "base_uri": "https://localhost:8080/"
        },
        "id": "kX1ZNJyIhngj",
        "outputId": "1cd5599f-b106-4594-ed4f-4036ece2b560"
      },
      "outputs": [
        {
          "name": "stdout",
          "output_type": "stream",
          "text": [
            "w = tensor([[0.0068],\n",
            "        [0.0083]])\n",
            "b = tensor([0.])\n"
          ]
        }
      ],
      "source": [
        "# Probemos la implementación\n",
        "m = 2\n",
        "w, b = initialize_params(m)\n",
        "print (\"w = \" + str(w))\n",
        "print (\"b = \" + str(b))"
      ]
    },
    {
      "cell_type": "markdown",
      "metadata": {
        "id": "ebRw5tKMyFmM"
      },
      "source": [
        "### Límite de decisión\n",
        "\n",
        "Podemos visualizar el limite de decisión acorde a los parámetros aleatorios:"
      ]
    },
    {
      "cell_type": "code",
      "execution_count": 13,
      "metadata": {
        "colab": {
          "base_uri": "https://localhost:8080/",
          "height": 265
        },
        "id": "ZrO0TjW-pbim",
        "outputId": "c79cb1a3-6dce-4278-82a6-a76138f9bb4f"
      },
      "outputs": [
        {
          "data": {
            "image/png": "[encoded data removed]",
            "text/plain": [
              "<Figure size 640x480 with 1 Axes>"
            ]
          },
          "metadata": {},
          "output_type": "display_data"
        }
      ],
      "source": [
        "def plot_decision_boundary_no_label(X, w, b):\n",
        "  plt.scatter(X[:, 0], X[:, 1], s=5, cmap=cmap_bold)  \n",
        "  x_values = torch.tensor([X[:,0].min(), X[:,0].max() ])\n",
        "  if w[1] > 0:\n",
        "    y_values = -(b + x_values * w[0])/ w[1]\n",
        "  else: \n",
        "    y_values = -(b + x_values * w[0])\n",
        "  plt.plot(x_values, y_values, c='purple')\n",
        "  plt.show()  \n",
        "\n",
        "plot_decision_boundary_no_label(X_train, w, b)"
      ]
    },
    {
      "cell_type": "markdown",
      "metadata": {
        "id": "Sz2V137oycy1"
      },
      "source": [
        "Como podemos observar el limite de decisión inicial no separa ambas clases de forma correcta, esto se debe a que los parámetros poseen valores aleatorios."
      ]
    },
    {
      "cell_type": "markdown",
      "metadata": {
        "id": "a_73SVoWiNCT"
      },
      "source": [
        "### Definición del Modelo (1 punto)\n",
        "\n",
        "A continuación, definiremos el modelo. Al igual que en regresión lineal, la transformación afín ($z$) está dada por el producto de la matriz de las características de entrada $\\mathbf{X}$ y el vector de pesos $\\mathbf{w}$, sumados con el bias $b$. Es decir,\n",
        "\n",
        "$$z = \\mathbf{X} \\mathbf{w} + b,$$\n",
        "\n",
        "como lo mencionado en clase, una interpretación de $z$ es que son distancias al límite de decisión. En regresión logística estamos interesados en predecir probabilidades. Por lo tanto, tenemos que aplicar la función sigmoide a la transformación afín. Como resultado obtendremos las predicciones del modelo:\n",
        "\n",
        "$$\\hat y = \\sigma(z),$$\n",
        "\n",
        "donde $\\sigma$ es la función sigmoide previamente implementada.\n"
      ]
    },
    {
      "cell_type": "code",
      "execution_count": 14,
      "metadata": {
        "id": "QXzrMFDsniDY"
      },
      "outputs": [],
      "source": [
        "def model(X, w, b):\n",
        "  \"\"\"\n",
        "    Este método realiza la transformación afín entre los datos de entrada\n",
        "    y los parámetros, luego se obtienen probabilidades aplicando la función de \n",
        "    activación sigmoide previamente implementada.\n",
        "\n",
        "    Args:\n",
        "      - X: tensor de dimensión (n, m), donde n es el número de datos y m\n",
        "           es el número de características\n",
        "      - w: tensor de dimensión (m, 1), representando los pesos del modelo\n",
        "      - b: tensor de dimensión (1,), representando el bias del modelo\n",
        "\n",
        "    Returns:\n",
        "      - y_pred: tensor de dimensión (n, 1), representando las predicciones\n",
        "                con valores entre 0 y 1\n",
        "  \"\"\"\n",
        "  # TODO: Implementar la transformación afín\n",
        "  z = X @ w + b\n",
        "\n",
        "  # TODO: Aplicar la función de activación sigmoide\n",
        "  y_pred = sigmoid(z)\n",
        "\n",
        "  assert(y_pred.shape == (X.shape[0], 1))\n",
        "  return y_pred"
      ]
    },
    {
      "cell_type": "markdown",
      "metadata": {
        "id": "8pxZEZf-pcFR"
      },
      "source": [
        "Podemos probar la implementación, prediciendo valores para la data de entrenamiento:"
      ]
    },
    {
      "cell_type": "code",
      "execution_count": 15,
      "metadata": {
        "colab": {
          "base_uri": "https://localhost:8080/"
        },
        "id": "zZNl8MjJpdVL",
        "outputId": "bb0771db-23b1-4cf0-d0a5-29231c012025"
      },
      "outputs": [
        {
          "name": "stdout",
          "output_type": "stream",
          "text": [
            "Predicciones iniciales\n",
            "tensor([[0.4742],\n",
            "        [0.4925],\n",
            "        [0.4582],\n",
            "        [0.4423],\n",
            "        [0.4543],\n",
            "        [0.4524],\n",
            "        [0.4460],\n",
            "        [0.4774],\n",
            "        [0.4840],\n",
            "        [0.4721]])\n"
          ]
        }
      ],
      "source": [
        "# Probemos si el código se ejecuta de forma correcta\n",
        "y_pred_train = model(X_train, w, b)\n",
        "\n",
        "print('Predicciones iniciales')\n",
        "print(y_pred_train[0:10])"
      ]
    },
    {
      "cell_type": "markdown",
      "metadata": {
        "id": "WTSQPa2-0tdS"
      },
      "source": [
        "El modelo nos devuelve la predicción actual (probabilidades) dados los parámetros y la data. Los valores deben estar entre 0 y 1."
      ]
    },
    {
      "cell_type": "markdown",
      "metadata": {
        "id": "Neh-6RZx38iD"
      },
      "source": [
        "### Función de Pérdida (1 punto)\n",
        "\n",
        "La función de pérdida usual para clasificación binaria es la *entropía cruzada binaria (binary cross-entropy)* entre los valores predichos, $\\hat y$, y los valores reales, $y$.\n",
        "\n",
        "$$\\mathcal{l}^{(i)}(\\mathbf{w}, b) = - y^{(i)} \\log(\\hat y^{(i)}) - (1 - y^{(i)}) \\log(1 - \\hat y^{(i)}).$$\n",
        "\n",
        "Para medir la calidad de un modelo en todo el conjunto de datos de $n$ ejemplos, simplemente promediamos las pérdidas en el conjunto de entrenamiento\n",
        "\n",
        "$$\\mathcal{L}(\\mathbf{w}, b)= \\frac{1}{n}\\sum_{i=0}^n l^{(i)}(\\mathbf{w}, b) = -\\frac{1}{n} \\sum_{i=0}^n y^{(i)} \\log(\\hat y^{(i)}) + (1 - y^{(i)}) \\log(1 - \\hat y^{(i)}),$$\n",
        "\n",
        "donde $\\hat y^{(i)} = \\sigma (\\mathbf{w}^\\top \\mathbf{x}^{(i)} + b)$ es la predicción del modelo. \n",
        "\n",
        "A continuación implementará la función de pérdida:\n"
      ]
    },
    {
      "cell_type": "code",
      "execution_count": 16,
      "metadata": {
        "id": "5yZuPpbk7nYA"
      },
      "outputs": [],
      "source": [
        "def log(z, eps=1e-20):\n",
        "  \"\"\"\n",
        "     Logaritmo numéricamente estable\n",
        "  \"\"\"\n",
        "  return torch.log(torch.maximum(z, torch.tensor(eps)))\n",
        "\n",
        "def BCE(y_pred, y_true):\n",
        "  \"\"\"\n",
        "    Este método calcula la función de pérdida de entropía cruzada binaria.\n",
        "\n",
        "    Args:\n",
        "      - y_pred: tensor de dimensión (n, 1), representando probabilidades\n",
        "      - y_true: tensor de dimensión (n, 1), representando los valores reales (0 o 1)\n",
        "\n",
        "    Returns:\n",
        "      - cost: valor flotante representando el promedio de las pérdidas de cada muestra\n",
        "  \"\"\"\n",
        "  #TODO: Usando la formulación anteriormente definida, implemente la función\n",
        "  #      de pérdida. Implementar la versión vectorizada sin usar bucles.\n",
        "  #      * No usar torch.log() directamente, mejor use la función log() \n",
        "  #        definida anteriormente. \n",
        "  cost = torch.mean(-y_true * log(y_pred) - (1 - y_true) * log(1-y_pred))\n",
        "  \n",
        "  return cost\n"
      ]
    },
    {
      "cell_type": "code",
      "execution_count": 17,
      "metadata": {
        "colab": {
          "base_uri": "https://localhost:8080/"
        },
        "id": "OxdF9vxS9DQ-",
        "outputId": "0354f19a-1692-4850-adb9-ddc7bc54c7d6"
      },
      "outputs": [
        {
          "name": "stdout",
          "output_type": "stream",
          "text": [
            "Error actual:  0.6724938750267029\n"
          ]
        }
      ],
      "source": [
        "# Probemos la implementación del método\n",
        "print(\"Error actual: \", BCE(y_pred_train, y_train).item())"
      ]
    },
    {
      "cell_type": "markdown",
      "metadata": {
        "id": "dhh3FRnx_X2p"
      },
      "source": [
        "### Optimización (3 puntos)\n",
        "\n",
        "Para optimizar el modelo implementará el algoritmo de gradiente descendente. La aplicación más simple de este algoritmo consiste en tomar la derivada de la función de pérdida, que es un promedio de las pérdidas calculadas en cada uno de los ejemplos del conjunto de datos. En la práctica, esto puede ser extremadamente lento: debemos pasar todo el conjunto de datos antes de realizar una sola actualización. Por lo tanto, a menudo nos conformaremos con muestrear un mini lote aleatorio de ejemplos cada vez que necesitemos calcular la actualización de parámetros, una variante llamada *mini-batch gradient descent*. \n",
        "\n",
        "La siguiente figura muestra un ejemplo de como se calculan los gradientes usando mini lotes:\n",
        "\n",
        "<p align=\"center\">\n",
        "<img src=\"https://drive.google.com/uc?export=view&id=1AjhlqZdJq9tm_vCdtL6xwwIqSnH7dla4\" width=\"800px\" />\n",
        "<p/>\n",
        "\n",
        "*Si no puede visualizar la imagen haga click [aqui](https://drive.google.com/uc?export=view&id=1AjhlqZdJq9tm_vCdtL6xwwIqSnH7dla4)*\n",
        "\n",
        "El primer paso es particionar la data en mini lotes aleatorios, los cuales serán usados de forma independiente para realizar predicciones y calcular la pérdida. El segundo paso es calcular los gradientes de la función de pérdida por lote. Finalmente se realiza la actualización de parámetros usando los gradientes calculados.\n",
        "\n"
      ]
    },
    {
      "cell_type": "markdown",
      "metadata": {
        "id": "YC-_BIkaIBay"
      },
      "source": [
        "#### Particionamiento en mini lotes (1 punto)\n",
        "\n",
        "El primer paso del algoritmo es particionar los datos en mini lotes. Para ello, en cada iteración obtenemos un mini lote, $\\mathcal{B}$, que consta de un número fijo de muestras. En la figura previamente mostrada se usan mini lotes de tamaño tres ($|B|=3$). Tener en cuenta que muchas veces no es posible obtener un lote de tamaño exacto (Lote 4), esto ocurre cuando el número de datos no es divisible por el tamaño del lote ingresado. Asimismo, considerar que para la data de entrenamiento es necesario aleatorizar los datos antes de realizar el particionamiento en lotes, esto es opcional para la data de prueba.\n",
        "\n",
        "A continuación implementará el método que permita particionar la data en lotes dado el tamaño del lote (`batch_size`) y si se desea aleatorizar los datos antes del particionamiento (`shuffle`). Esta última opción es necesaria usarla durante el entrenamiento:\n",
        "\n"
      ]
    },
    {
      "cell_type": "code",
      "execution_count": 18,
      "metadata": {
        "id": "X4yR-xedMhM1"
      },
      "outputs": [],
      "source": [
        "def data_iter(X, y, batch_size, shuffle=True):\n",
        "  \"\"\"\n",
        "    Este método particiona la data en mini lotes de forma aleatoria acorde al \n",
        "    batch_size. En caso el número de datos, n, no sea divisible por el batch_size,\n",
        "    considerar los datos faltantes como un lote. Por ejemplo: Si n = 11 y \n",
        "    batch_size=3 entonces tenemos tres lotes con 3 muestras y un lote con 2 muestras\n",
        "\n",
        "    Args:\n",
        "      - X: tensor de dimensión (n, m), donde n es el número de datos y m\n",
        "           es el número de características\n",
        "      - y: tensor de dimensión (n, 1), representando los valores reales\n",
        "      - batch_size: tamaño de cada lote\n",
        "      - shuffle: True para que los datos se aleatoricen en cada época\n",
        "\n",
        "    Returns:\n",
        "      - Los lotes actuales mediante 'yield' para usar el método como iterador\n",
        "  \"\"\"\n",
        "  n = X.shape[0]\n",
        "  \n",
        "  if shuffle:\n",
        "    # TODO: Crear una lista de índices aleatorios de los datos. Puede usar torch.randperm\n",
        "    indices = torch.randperm(n)\n",
        "  else:\n",
        "    indices = range(n)\n",
        "\n",
        "  # Iteramos sobre los datos considerando el tamaño de cada lote (batch_size)\n",
        "  for i in range(0, n, batch_size):\n",
        "    \n",
        "    # TODO: Obtenga los índices del lote actual. El tamaño de cada lote debe \n",
        "    #       ser igual a batch_size con excepción del último lote que\n",
        "    #       puede ser <= batch_size\n",
        "    batch_indices = indices[i:i+batch_size]\n",
        "    # TODO: Obtenga el lote de los datos y etiquetas usando los índices\n",
        "    #       previamente seleccionados\n",
        "    X_batch, y_batch = X[batch_indices], y[batch_indices]\n",
        "\n",
        "    # Retornamos los lotes actuales con yield para usar el método como iterador\n",
        "    yield X_batch, y_batch"
      ]
    },
    {
      "cell_type": "markdown",
      "metadata": {
        "id": "NwpOIVifMmBr"
      },
      "source": [
        "Probaremos la implementación mostrando el tamaño de cada lote:"
      ]
    },
    {
      "cell_type": "code",
      "execution_count": 19,
      "metadata": {
        "colab": {
          "base_uri": "https://localhost:8080/"
        },
        "id": "USiYGTuVMmLh",
        "outputId": "c83f4943-c11f-498f-c9c8-d98deb1b03d5"
      },
      "outputs": [
        {
          "name": "stdout",
          "output_type": "stream",
          "text": [
            "Lote 1 tiene tamaño 32\n",
            "Lote 2 tiene tamaño 32\n",
            "Lote 3 tiene tamaño 32\n",
            "Lote 4 tiene tamaño 32\n",
            "Lote 5 tiene tamaño 32\n",
            "Lote 6 tiene tamaño 32\n",
            "Lote 7 tiene tamaño 32\n",
            "Lote 8 tiene tamaño 32\n",
            "Lote 9 tiene tamaño 32\n",
            "Lote 10 tiene tamaño 32\n",
            "Lote 11 tiene tamaño 32\n",
            "Lote 12 tiene tamaño 32\n",
            "Lote 13 tiene tamaño 32\n",
            "Lote 14 tiene tamaño 32\n",
            "Lote 15 tiene tamaño 32\n",
            "Lote 16 tiene tamaño 32\n",
            "Lote 17 tiene tamaño 32\n",
            "Lote 18 tiene tamaño 32\n",
            "Lote 19 tiene tamaño 24\n",
            ":) El número total de muestras por lotes es correcto.\n"
          ]
        }
      ],
      "source": [
        "# Tamaño de cada lote\n",
        "batch_size = 32\n",
        "\n",
        "# Número total de muestras\n",
        "total_samples = 0\n",
        "\n",
        "# Iteramos sobre todos los datos y mostramos el tamaño de cada lote\n",
        "for i, (X_batch, y_batch) in enumerate(data_iter(X_train, y_train, batch_size), 1):\n",
        "  total_samples += X_batch.shape[0]\n",
        "  print(f'Lote {i} tiene tamaño {X_batch.shape[0]}')\n",
        "\n",
        "if total_samples == X_train.shape[0]:\n",
        "  print(':) El número total de muestras por lotes es correcto.')\n",
        "else:\n",
        "  print(':( El número total de muestras por lotes difiere del total de muestras.')"
      ]
    },
    {
      "cell_type": "markdown",
      "metadata": {
        "id": "uJsuAaE1N0Kd"
      },
      "source": [
        "#### Gradiente de la función de pérdida (1 punto)\n",
        "\n",
        "El siguiente paso es calcular el gradiente de la función de pérdida con respecto a los parámetros del modelo. El gradiente de la entropía cruzada binaria (BCE) con respecto a los pesos, está dado por lo siguiente:\n",
        "\n",
        "$$ \\nabla_{\\mathbf{w}} \\mathcal{L}(\\mathbf{w},b) = \\frac{1}{n} \\mathbf X^\\top (\\hat y - y),$$\n",
        "\n",
        "donde $\\hat y = \\sigma( \\mathbf{Xw} + b)$. El gradiente con respecto al bias, está dado por lo siguiente:\n",
        "\n",
        "$$ \\nabla_{b} \\mathcal{L}(\\mathbf{w},b) = \\frac{1}{n} \\mathbf 1^\\top (\\hat y - y),$$\n",
        "\n",
        "donde $ \\mathbf{1}$ es una matriz columna de unos, creada a partir del gradiente con respecto al bias el cual es igual a $1$ para todas las muestras. Recuerde que esta multiplicación por la matriz columna de unos se puede reducir a una sumatoria. A continuación, deberá de implementar el método que retorna los gradientes dado un conjunto datos y los parámetros del modelo:"
      ]
    },
    {
      "cell_type": "code",
      "execution_count": 20,
      "metadata": {
        "id": "yJam53luOHbU"
      },
      "outputs": [],
      "source": [
        "def gradient(X, y_pred, y_true):\n",
        "  \"\"\"\n",
        "    Este método calcula el gradiente de la función de pérdida BCE.\n",
        "\n",
        "    Args:\n",
        "      - X: tensor de dimensión (n, m), donde n es el número de datos y m\n",
        "           es el número de características\n",
        "      - y_pred: tensor de dimensión (n, 1), representando probabilidades\n",
        "      - y_true: tensor de dimensión (n, 1), representando los valores reales\n",
        "\n",
        "    Returns:\n",
        "      - w_grad: tensor de dimensión (m, 1), representando los gradientes de los pesos\n",
        "      - b_grad: tensor de dimensión (1,), representando los gradientes del bias\n",
        "  \"\"\"\n",
        "\n",
        "  # Nos aseguramos de que y_true tenga las mismas dimensiones que y_pred\n",
        "  n = X.shape[0]\n",
        "\n",
        "  # TODO: Implemente el gradiente con respecto a los pesos y el bias siguiendo\n",
        "  # las formulaciones brindadas anteriormente\n",
        "  w_grad = X.t()@(y_pred - y_true)/n\n",
        "  b_grad =  torch.ones(n) @ (y_pred - y_true)/n\n",
        "\n",
        "  # Verificamos dimensiones de resultados\n",
        "  assert(w_grad.shape == (X.shape[1], 1))\n",
        "  assert(b_grad.shape == (1,))\n",
        "\n",
        "  return w_grad, b_grad "
      ]
    },
    {
      "cell_type": "code",
      "execution_count": 21,
      "metadata": {
        "colab": {
          "base_uri": "https://localhost:8080/"
        },
        "id": "NDM_nBt_OK7X",
        "outputId": "72a8ae1c-c8fd-464e-b0e9-8c69a60f6aca"
      },
      "outputs": [
        {
          "name": "stdout",
          "output_type": "stream",
          "text": [
            "Gradiente de w:  tensor([[ 1.0353],\n",
            "        [-2.9797]])\n",
            "Gradiente de b:  tensor([-0.0452])\n"
          ]
        }
      ],
      "source": [
        "# Probemos la funcionalidad del método\n",
        "w_grad, b_grad = gradient(X_train, y_pred_train, y_train)\n",
        "\n",
        "print(\"Gradiente de w: \", w_grad)\n",
        "print(\"Gradiente de b: \", b_grad)"
      ]
    },
    {
      "cell_type": "markdown",
      "metadata": {
        "id": "M26viSqbOTBb"
      },
      "source": [
        "#### Actualización de parámetros (1 punto)\n",
        "\n",
        "El último paso es actualizar los parámetros usando los gradientes por cada mini lote. Para ello, cada gradiente lo multiplicamos por la tasa de aprendizaje $\\eta$ y restamos el término resultante de los valores de los parámetros actuales. Podemos expresar la actualización de un mini lote matemáticamente de la siguiente manera ($\\nabla$ denota el gradiente):\n",
        "\n",
        "$$(\\mathbf{w},b) \\leftarrow (\\mathbf{w},b) - \\frac{\\eta}{|\\mathcal{B}|} \\sum_{i \\in \\mathcal{B}} \\nabla_{(\\mathbf{w},b)} l^{(i)}(\\mathbf{w},b).$$\n",
        "\n",
        "A diferencia de la implementación full-batch (visto en el notebook de regresión lineal), podemos ver que en esta versión dividimos por el tamaño del lote $|\\mathcal{B}|$, ya que consideramos un subconjunto de muestras en lugar de todo el conjunto de datos."
      ]
    },
    {
      "cell_type": "code",
      "execution_count": 22,
      "metadata": {
        "id": "0QLfaKv-OpSL"
      },
      "outputs": [],
      "source": [
        "def gradient_descent_step(w, b, w_grad, b_grad, learning_rate):\n",
        "  \"\"\"\n",
        "    Este método calcula un paso de gradiente descendente\n",
        "\n",
        "    Args:\n",
        "      - w: tensor de dimensión (m, 1), representando los pesos del modelo\n",
        "      - b: tensor de dimensión (1,), representando el bias del modelo\n",
        "      - w_grad: tensor de dimensión (m, 1), representando los gradientes de los pesos\n",
        "      - b_grad: tensor de dimensión (1,), representando los gradientes del bias\n",
        "      - learning_rate: constante representando la tasa de aprendizaje\n",
        "\n",
        "    Returns:\n",
        "      No retornamos nada, pero actualizamos los parámetros w y b por referencia  \n",
        "  \"\"\"\n",
        "  # TODO: Actualice los pesos usando gradiente descendente\n",
        "  w -= w_grad * learning_rate\n",
        "\n",
        "  # TODO: Actualice el bias usando gradiente descendente\n",
        "  b -= b_grad * learning_rate\n",
        "  #return w , b"
      ]
    },
    {
      "cell_type": "markdown",
      "metadata": {
        "id": "3Pf0VkYzPXIo"
      },
      "source": [
        "Verifiquemos si la implementación actualiza los parámetros:"
      ]
    },
    {
      "cell_type": "code",
      "execution_count": 23,
      "metadata": {
        "colab": {
          "base_uri": "https://localhost:8080/"
        },
        "id": "yvUd2D7FPXQx",
        "outputId": "3c7f65ef-653c-4e13-c8c6-96a7e2df6637"
      },
      "outputs": [
        {
          "name": "stdout",
          "output_type": "stream",
          "text": [
            "w = tensor([[-0.1047],\n",
            "        [ 0.3088]])\n",
            "b = tensor([0.0045])\n"
          ]
        }
      ],
      "source": [
        "# Creamos parámetros temporales para probar la implementación\n",
        "w, b = initialize_params(m)\n",
        "\n",
        "# Realizamos un paso de gradiente descendente\n",
        "gradient_descent_step(w, b, w_grad, b_grad, 0.1)\n",
        "# Mostramos los parámetros actualizados\n",
        "print (\"w = \" + str(w))\n",
        "print (\"b = \" + str(b))"
      ]
    },
    {
      "cell_type": "markdown",
      "metadata": {
        "id": "lZCQVHgsPjuC"
      },
      "source": [
        "Los parámetros actualizados deben ser diferentes de cero."
      ]
    },
    {
      "cell_type": "markdown",
      "metadata": {
        "id": "OaKQveLt6N0i"
      },
      "source": [
        "### Entrenamiento (3 puntos)\n",
        "\n",
        "En las secciones anteriores se han implementado diferentes métodos que se usarán durante el entrenamiento. Recordar que el entrenamiento se realiza durante un número específico de épocas. En cada época iteramos sobre todo el conjunto de datos y realizamos el entrenamiento. Una fase adicional e importante es la validación del modelo que se realiza una vez terminado el entrenamiento por época. En términos generales, el algoritmo está dado por lo siguiente:\n",
        "\n",
        "* Inicializar los parámetros $(\\mathbf{w}, b)$\n",
        "* Iterar por un determinado número de épocas. Para cada época:\n",
        "    * Entrenar el modelo usando la data de entrenamiento\n",
        "    * Validar el modelo usando la data de validación\n",
        "\n",
        "A continuación, se implementarán métodos para el entrenamiento y validación por época y luego usaremos estas funciones en un método de entrenamiento principal."
      ]
    },
    {
      "cell_type": "markdown",
      "metadata": {
        "id": "q183FDTkr9MK"
      },
      "source": [
        "#### Fase de Entrenamiento (1 punto)\n",
        " \n",
        "Durante esta fase se usará la data de entrenamiento `(X_train, y_train)`. En esta fase **actualizamos los parámetros del modelo** mediante gradiente descendente usando mini lotes. El algoritmo es el siguiente:\n",
        "\n",
        "* Iterar sobre el conjunto de datos usando mini lotes. Para cada mini lote ($\\mathbf{X}, y$):\n",
        "\n",
        "  * Predecir probabilidades $\\hat y \\leftarrow \\sigma(\\mathbf{X}\\mathbf{w} + b)$\n",
        "  * Calcular el gradiente $\\mathbf{g} \\leftarrow \\nabla_{(\\mathbf{w},b)} \\frac{1}{|\\mathcal{B}|} \\sum_{i \\in \\mathcal{B}} l(\\hat{y}^{(i)}, y^{(i)}, \\mathbf{w}, b)$\n",
        "  * Actualizar los parámetros $(\\mathbf{w}, b) \\leftarrow (\\mathbf{w}, b) - \\eta \\mathbf{g}$\n",
        "\n",
        "A continuación, se definirá un método para realizar las operaciones de entrenamiento:"
      ]
    },
    {
      "cell_type": "code",
      "execution_count": 24,
      "metadata": {
        "id": "x_G3N102u2Mv"
      },
      "outputs": [],
      "source": [
        "def train_step(X_train, y_train, w, b, learning_rate, batch_size):\n",
        "  \"\"\"\n",
        "    Este método realiza la fase de entrenamiento usando la data de entrenamiento \n",
        "    (X_train, y_train) la que usaremos para actualizar los parámetros del modelo.\n",
        "\n",
        "    Args:\n",
        "      - X_train: tensor de dimensión (n, m), donde n es el número de \n",
        "            datos de entrenamiento y m es el número de características\n",
        "      - y_train: tensor de dimensión (n, 1), representando las etiquetas\n",
        "            reales de la data de entrenamiento \n",
        "      - w: tensor de dimensión (m, 1), representando los pesos del modelo\n",
        "      - b: tensor de dimensión (1,), representando el bias del modelo\n",
        "      - learning_rate: tasa de aprendizaje\n",
        "      - batch_size: tamaño de cada lote\n",
        "\n",
        "    Returns:\n",
        "      - train_loss: pérdida total de la data de entrenamiento\n",
        "  \"\"\"\n",
        "  n, m = X_train.shape\n",
        "  \n",
        "  # Pérdida de entrenamiento total\n",
        "  train_loss = 0.\n",
        "\n",
        "  # Iteramos sobre todos los datos de entrenamiento usando mini lotes\n",
        "  for X, y in data_iter(X_train, y_train, batch_size):\n",
        "\n",
        "    # TODO: Obtener probabilidades del lote actual a partir del modelo\n",
        "    y_pred = model(X,w,b)\n",
        "\n",
        "    # TODO: Calcular la pérdida usando el método BCE\n",
        "    loss = BCE(y_pred,y)\n",
        "\n",
        "    # TODO: Calcular los gradientes de la función de pérdida usando el lote de\n",
        "    #       entrenamiento (X, y) y sus predicciones\n",
        "    w_grad, b_grad = gradient(X, y_pred, y)\n",
        "\n",
        "    # TODO: Actualizar los parámetros con gradiente descendente\n",
        "    gradient_descent_step(w,b,w_grad,b_grad,learning_rate)\n",
        "\n",
        "    # Acumulamos pérdida\n",
        "    train_loss += loss.item() * X.shape[0]\n",
        "\n",
        "  # Pérdida promedio\n",
        "  train_loss /= n\n",
        "\n",
        "  return train_loss"
      ]
    },
    {
      "cell_type": "code",
      "execution_count": 25,
      "metadata": {
        "colab": {
          "base_uri": "https://localhost:8080/"
        },
        "id": "Nd73e8OlwzzL",
        "outputId": "063732ec-c39e-4d9c-9731-a33c1dbf4995"
      },
      "outputs": [
        {
          "name": "stdout",
          "output_type": "stream",
          "text": [
            "Error de entrenamiento: 0.67249684\n"
          ]
        }
      ],
      "source": [
        "# Probemos la implementación\n",
        "m = 2\n",
        "w, b = initialize_params(m)\n",
        "print(f'Error de entrenamiento: {train_step(X_train, y_train, w, b, 0.001, 32):.8f}')"
      ]
    },
    {
      "cell_type": "markdown",
      "metadata": {
        "id": "wAUoN5yf6dKJ"
      },
      "source": [
        "Se espera un error de entrenamiento mayor a $0.5$ y menor a $0.7$."
      ]
    },
    {
      "cell_type": "markdown",
      "metadata": {
        "id": "4_rbN9bF6uvI"
      },
      "source": [
        "#### Fase de Validación (1 punto)\n",
        "\n",
        "Siempre es importante validar el modelo para saber si está generalizando correctamente, es por ello que usaremos la data de validación `(X_val, y_val)`. La validación se llevará a cabo en cada época, luego de la fase de entrenamiento. Recuerde que en la fase de validación **no actualizamos los parámetros**, por lo tanto, no calculamos gradientes y no usamos gradiente descendente. El algoritmo es el siguiente:\n",
        "\n",
        "* Iterar sobre el conjunto de datos usando mini lotes. Para cada mini lote ($\\mathbf{X}, y$):\n",
        "\n",
        "  * Predecir probabilidades $\\hat y = \\sigma(\\mathbf{X}\\mathbf{w} + b)$\n",
        "  * Calcular el error $\\frac{1}{|\\mathcal{B}|} \\sum_{i \\in \\mathcal{B}} l(\\hat{y}^{(i)}, y^{(i)}, \\mathbf{w}, b)$\n",
        "  \n",
        "A continuación, se definirá un método para realizar las operaciones de validación:"
      ]
    },
    {
      "cell_type": "code",
      "execution_count": 39,
      "metadata": {
        "id": "PsRFIdBOC1FH"
      },
      "outputs": [],
      "source": [
        "def validation_step(X_val, y_val, w, b, batch_size):\n",
        "  \"\"\"\n",
        "    Este método realiza la fase de validación usando la data de validación \n",
        "    (X_val, y_val) y los parámetros del modelo entrenado.\n",
        "\n",
        "    Args:\n",
        "      - X_val: tensor de dimensión (n_val, m), donde n_val es el número de \n",
        "            datos de validación y m es el número de características\n",
        "      - y_val: tensor de dimensión (n_val, 1), representando las etiquetas\n",
        "            reales de la data de validación \n",
        "      - w: tensor de dimensión (m, 1), representando los pesos del modelo\n",
        "      - b: tensor de dimensión (1,), representando el bias del modelo\n",
        "      - batch_size: tamaño de cada lote\n",
        "\n",
        "    Returns:\n",
        "      - val_loss: pérdida de toda la data de validación\n",
        "  \"\"\"\n",
        "  n_val, m = X_val.shape\n",
        "  \n",
        "  # Pérdida de validación total\n",
        "  val_loss = 0.\n",
        "\n",
        "  # Debido a que en la fase de validación no actualizamos los parámetros\n",
        "  # no es necesario usar los gradientes\n",
        "  with torch.no_grad():\n",
        "\n",
        "    # Iteramos sobre todos los datos de validación usando mini lotes\n",
        "    # No es necesario aleatorizar la data de validación\n",
        "    for X, y in data_iter(X_val, y_val, batch_size, False):\n",
        "\n",
        "      # TODO: Obtener probabilidades del lote actual a partir del modelo\n",
        "      y_pred = model(X, w, b)\n",
        "\n",
        "      # TODO: Calcular la pérdida usando el método BCE \n",
        "      loss = BCE(y_pred, y)\n",
        "      \n",
        "      # Acumulamos pérdida\n",
        "      val_loss += loss.item() * X.shape[0]\n",
        "\n",
        "  # Pérdida promedio\n",
        "  val_loss /= n_val\n",
        "\n",
        "  return val_loss"
      ]
    },
    {
      "cell_type": "code",
      "execution_count": 40,
      "metadata": {
        "colab": {
          "base_uri": "https://localhost:8080/"
        },
        "id": "NKXF0qCbE-MV",
        "outputId": "01e26169-0232-4354-cf24-e81b0d3da719"
      },
      "outputs": [
        {
          "name": "stdout",
          "output_type": "stream",
          "text": [
            "Error de validación: 0.55037941\n"
          ]
        }
      ],
      "source": [
        "# Probemos la implementación\n",
        "print(f'Error de validación: {validation_step(X_val, y_val, w, b, 32):.8f}')"
      ]
    },
    {
      "cell_type": "markdown",
      "metadata": {
        "id": "Pm4Pp4_-G-6L"
      },
      "source": [
        "#### Fase Principal (1 punto)\n",
        "\n",
        "Ahora que tenemos todas las partes en su lugar, estamos listos para implementar el algoritmo de entrenamiento principal. Recordemos que el algoritmo está dado por lo siguiente:\n",
        "\n",
        "* Inicializar los parámetros $(\\mathbf{w}, b)$\n",
        "* Iterar por un determinado número de épocas. Para cada época:\n",
        "    * Entrenar el modelo usando la data de entrenamiento\n",
        "    * Validar el modelo usando la data de validación\n",
        "\n",
        "En cada *época*, iteraremos a través de todo el conjunto de datos usando mini lotes. El número de épocas, `num_epochs`, la tasa de aprendizaje, `lr`, y el tamaño del lote, `batch_size`, son hiperparámetros que debemos definir previos al entrenamiento. Desafortunadamente, definir los valores de los hiperparámetros es complicado y requiere algunos ajustes por prueba y error. "
      ]
    },
    {
      "cell_type": "code",
      "execution_count": 41,
      "metadata": {
        "id": "jebmLiHo-uVG"
      },
      "outputs": [],
      "source": [
        "def train_model(X_train, y_train, X_val, y_val, num_epochs, learning_rate, batch_size):\n",
        "  \"\"\"\n",
        "    Este método realiza el entrenamiento del modelo usando (X_train, y_train), y\n",
        "    valida los resultados con (X_val, y_val).\n",
        "\n",
        "    Args:\n",
        "      - X_train: tensor de dimensión (n, m), donde n es el número de \n",
        "            datos de entrenamiento y m es el número de características\n",
        "      - y_train: tensor de dimensión (n, 1), representando las etiquetas\n",
        "            reales de la data de entrenamiento     \n",
        "      - X_val: tensor de dimensión (n_val, m), donde n_val es el número de \n",
        "            datos de validación y m es el número de características\n",
        "      - y_val: tensor de dimensión (n_val, 1), representando las etiquetas\n",
        "            reales de la data de validación \n",
        "      - num_epochs: número de épocas\n",
        "      - learning_rate: tasa de aprendizaje\n",
        "      - batch_size: tamaño de cada lote\n",
        "\n",
        "    Returns:\n",
        "      - w: tensor de dimensión (m, 1), representando los pesos actualizados\n",
        "      - b: tensor de dimensión (1,), representando el bias actualizado\n",
        "  \"\"\"\n",
        "  n, m = X_train.shape\n",
        "\n",
        "  # TODO: Inicializar los los parámetros del modelo\n",
        "  w, b = None\n",
        "\n",
        "  # TODO: Iterar sobre el número de épocas especificado\n",
        "  for epoch in range(num_epochs):\n",
        "    # Fase de Entrenamiento\n",
        "    # TODO: Usar el método antes implementado para realizar el entrenamiento\n",
        "    train_loss = None\n",
        "\n",
        "    # Fase de Validación\n",
        "    # TODO: Usar el método antes implementado para realizar la validación    \n",
        "    val_loss = None\n",
        "\n",
        "    # Imprimimos los errores de entrenamiento y validación\n",
        "    print(f'Epoch ({epoch+1}/{num_epochs}): train_loss = {train_loss:.8f}, val_loss= {val_loss:.8f}')\n",
        "\n",
        "  return w, b  "
      ]
    },
    {
      "cell_type": "markdown",
      "metadata": {
        "id": "-B0Hv20iBMkb"
      },
      "source": [
        "Ahora probaremos la implementación. Puede probar otros valores en los hiperparámetros que mejoren los resultados:"
      ]
    },
    {
      "cell_type": "code",
      "execution_count": 42,
      "metadata": {
        "id": "POxxBXQWA4vV"
      },
      "outputs": [
        {
          "ename": "TypeError",
          "evalue": "cannot unpack non-iterable NoneType object",
          "output_type": "error",
          "traceback": [
            "\u001b[0;31m---------------------------------------------------------------------------\u001b[0m",
            "\u001b[0;31mTypeError\u001b[0m                                 Traceback (most recent call last)",
            "\u001b[1;32m/Users/Renzo/Projects/IDL/u201715785_TA1idl.ipynb Celda 64\u001b[0m in \u001b[0;36m<cell line: 7>\u001b[0;34m()\u001b[0m\n\u001b[1;32m      <a href='vscode-notebook-cell:/Users/Renzo/Projects/IDL/u201715785_TA1idl.ipynb#Y120sZmlsZQ%3D%3D?line=3'>4</a>\u001b[0m batch_size \u001b[39m=\u001b[39m \u001b[39m32\u001b[39m\n\u001b[1;32m      <a href='vscode-notebook-cell:/Users/Renzo/Projects/IDL/u201715785_TA1idl.ipynb#Y120sZmlsZQ%3D%3D?line=5'>6</a>\u001b[0m \u001b[39m# Realizamos el entrenamiento\u001b[39;00m\n\u001b[0;32m----> <a href='vscode-notebook-cell:/Users/Renzo/Projects/IDL/u201715785_TA1idl.ipynb#Y120sZmlsZQ%3D%3D?line=6'>7</a>\u001b[0m w, b \u001b[39m=\u001b[39m train_model(X_train, y_train, X_val, y_val, num_epochs, learning_rate, batch_size)\n",
            "\u001b[1;32m/Users/Renzo/Projects/IDL/u201715785_TA1idl.ipynb Celda 64\u001b[0m in \u001b[0;36mtrain_model\u001b[0;34m(X_train, y_train, X_val, y_val, num_epochs, learning_rate, batch_size)\u001b[0m\n\u001b[1;32m     <a href='vscode-notebook-cell:/Users/Renzo/Projects/IDL/u201715785_TA1idl.ipynb#Y120sZmlsZQ%3D%3D?line=22'>23</a>\u001b[0m n, m \u001b[39m=\u001b[39m X_train\u001b[39m.\u001b[39mshape\n\u001b[1;32m     <a href='vscode-notebook-cell:/Users/Renzo/Projects/IDL/u201715785_TA1idl.ipynb#Y120sZmlsZQ%3D%3D?line=24'>25</a>\u001b[0m \u001b[39m# TODO: Inicializar los los parámetros del modelo\u001b[39;00m\n\u001b[0;32m---> <a href='vscode-notebook-cell:/Users/Renzo/Projects/IDL/u201715785_TA1idl.ipynb#Y120sZmlsZQ%3D%3D?line=25'>26</a>\u001b[0m w, b \u001b[39m=\u001b[39m \u001b[39mNone\u001b[39;00m\n\u001b[1;32m     <a href='vscode-notebook-cell:/Users/Renzo/Projects/IDL/u201715785_TA1idl.ipynb#Y120sZmlsZQ%3D%3D?line=27'>28</a>\u001b[0m \u001b[39m# TODO: Iterar sobre el número de épocas especificado\u001b[39;00m\n\u001b[1;32m     <a href='vscode-notebook-cell:/Users/Renzo/Projects/IDL/u201715785_TA1idl.ipynb#Y120sZmlsZQ%3D%3D?line=28'>29</a>\u001b[0m \u001b[39mfor\u001b[39;00m epoch \u001b[39min\u001b[39;00m \u001b[39mrange\u001b[39m(num_epochs):\n\u001b[1;32m     <a href='vscode-notebook-cell:/Users/Renzo/Projects/IDL/u201715785_TA1idl.ipynb#Y120sZmlsZQ%3D%3D?line=29'>30</a>\u001b[0m   \u001b[39m# Fase de Entrenamiento\u001b[39;00m\n\u001b[1;32m     <a href='vscode-notebook-cell:/Users/Renzo/Projects/IDL/u201715785_TA1idl.ipynb#Y120sZmlsZQ%3D%3D?line=30'>31</a>\u001b[0m   \u001b[39m# TODO: Usar el método antes implementado para realizar el entrenamiento\u001b[39;00m\n",
            "\u001b[0;31mTypeError\u001b[0m: cannot unpack non-iterable NoneType object"
          ]
        }
      ],
      "source": [
        "# Hiperparámetros\n",
        "num_epochs = 500\n",
        "learning_rate = 0.1\n",
        "batch_size = 32\n",
        "\n",
        "# Realizamos el entrenamiento\n",
        "w, b = train_model(X_train, y_train, X_val, y_val, num_epochs, learning_rate, batch_size)"
      ]
    },
    {
      "cell_type": "markdown",
      "metadata": {
        "id": "eTVUe5wqBhoz"
      },
      "source": [
        "Como se puede observar, tanto el error de entrenamiento como el de validación comienzan a bajar, lo que nos indica que el entrenamiento se está realizando de forma correcta."
      ]
    },
    {
      "cell_type": "markdown",
      "metadata": {
        "id": "PFxKdV9exx1F"
      },
      "source": [
        "### Predicción (1 punto)\n",
        "\n",
        "Las predicciones actuales son probabilidades. Sin embargo, en clasificación estamos interesados en valores discretos, en este caso nos interesan valores 0 y 1. Por lo tanto, podemos usar un threshold, si las probabilidades de predicción son mayores que ese threshold entonces clasificamos esos datos como clase 1 sino como clase 0."
      ]
    },
    {
      "cell_type": "code",
      "execution_count": null,
      "metadata": {
        "id": "V7OZzOxAyK87"
      },
      "outputs": [],
      "source": [
        "def predict(X, w, b, threshold=0.5):\n",
        "  \"\"\" \n",
        "     Este método predice si la etiqueta es 0 o 1 utilizando los parámetros\n",
        "     del modelo (w, b) y un threshold\n",
        "\n",
        "    Args:\n",
        "      - X: tensor de dimensión (n, m), donde n es el número de datos y m\n",
        "           es el número de características\n",
        "      - w: tensor de dimensión (m, 1), representando los pesos del modelo\n",
        "      - b: tensor de dimensión (1,), representando el bias del modelo\n",
        "      - threshold: umbral para obtener valores discretos a partir de probabilidades\n",
        "    \n",
        "    Returns:\n",
        "      - y_pred: tensor de dimensión (n, 1), representando las predicciones\n",
        "                con valores 0 o 1. No probabilidades.\n",
        "  \"\"\"    \n",
        "  # Debido a que en esta fase no actualizamos los parámetros\n",
        "  # no es necesario usar los gradientes\n",
        "  with torch.no_grad():\n",
        "    #TODO: Obtenga probabilidades a partir del modelo\n",
        "    y_prob = None\n",
        "\n",
        "    #TODO: Convierta las probabilidades en 0 (si activación < threshold) o \n",
        "    #      1 (si activación >= threshold), almacenar las predicciones en y_pred\n",
        "    #      Se recomienda implementar la versión vectorizada (sin bucles)\n",
        "    y_pred = None\n",
        "  \n",
        "  assert(y_pred.shape == y_prob.shape)\n",
        "  return y_pred "
      ]
    },
    {
      "cell_type": "code",
      "execution_count": null,
      "metadata": {
        "id": "RQaCUbZTzenb"
      },
      "outputs": [],
      "source": [
        "# Probemos la implementación\n",
        "y_pred_val = predict(X_val, w, b)\n",
        "\n",
        "print('Primeras 10 predicciones: ')\n",
        "print(y_pred_val[:10])"
      ]
    },
    {
      "cell_type": "markdown",
      "metadata": {
        "id": "TTCmbjuVrgAr"
      },
      "source": [
        "#### Límite de Decisión\n",
        "\n",
        "Podemos visualizar el límite de decisión y las predicciones:"
      ]
    },
    {
      "cell_type": "code",
      "execution_count": null,
      "metadata": {
        "id": "JO0jYwNOriEM"
      },
      "outputs": [],
      "source": [
        "def plot_decision_boundary(X, y, w, b):\n",
        "  plt.scatter(X[:, 0], X[:, 1], c=y, s=10, cmap=cmap_bold)  \n",
        "  x_values = torch.tensor([X[:, 0].min(), X[:, 0].max()])\n",
        "  #x_values = torch.tensor([-8, 15])\n",
        "  if w[1] > 0:\n",
        "    y_values = -(b + x_values * w[0])/ w[1]\n",
        "  else: \n",
        "    y_values = -(b + x_values * w[0])#/ 1e-8\n",
        "  plt.plot(x_values, y_values, c='purple')\n",
        "  plt.show()  "
      ]
    },
    {
      "cell_type": "code",
      "execution_count": null,
      "metadata": {
        "id": "jKuyXDWrKBqh"
      },
      "outputs": [],
      "source": [
        "plot_decision_boundary(X_val, y_pred_val, w, b)"
      ]
    },
    {
      "cell_type": "markdown",
      "metadata": {
        "id": "nXlKzrNzK_Kq"
      },
      "source": [
        "Podemos ver que el límite de decisión separa ambas clases, asi como las predicciones. Visualizar los resultados es algo bueno, pero solo se puede aplicar en datos con pocas dimensiones o características. Una mejor forma de evaluar el modelo es cuantificar los resultados y medir el rendimiento mediante métricas de evaluación."
      ]
    },
    {
      "cell_type": "markdown",
      "metadata": {
        "id": "IrG_GsyjzSuQ"
      },
      "source": [
        "### Métrica de Evaluación (1 punto)\n",
        "\n",
        "Una forma de evaluar el rendimiento de nuestro modelo es mediante métricas de evaluación. Existen diferentes métricas para clasificación, en este trabajo usaremos el `accuracy`, el cual está definido de la siguiente manera:\n",
        "\n",
        "$$\\text{Accuracy} = \\frac{\\text{Número de predicciones correctas}}{\\text{Número total de predicciones}} = \\frac{1}{n}\\sum_{i=0}^{n} \\mathbb{I}(\\hat y^{(i)} = y^{(i)} ),$$\n",
        "\n",
        "donde $\\mathbb{I}$ es una función indicadora que retorna 1 cada vez que se cumple la condición, caso contrario retorna 0."
      ]
    },
    {
      "cell_type": "code",
      "execution_count": null,
      "metadata": {
        "id": "UtdBW3WkzdEo"
      },
      "outputs": [],
      "source": [
        "def accuracy(y_true, y_pred): \n",
        "  \"\"\"\n",
        "    Este método devuelve la métrica de evaluación 'accuracy' del clasificador.\n",
        "    Recordar que accuracy cuenta la cantidad promedio de datos correctamente predichos\n",
        "    para ello comparamos los valores reales, 'y_true', con los valores predichos,\n",
        "    'y_pred', realizamos el conteo de valores correctamente clasificados y retornamos\n",
        "    el promedio.\n",
        "\n",
        "    Args: \n",
        "        - y_true: tensor de dimensión (n,1) conteniendo las etiquetas reales \n",
        "        - y_pred: tensor de dimensión (n,1) conteniendo las etiquetas predichas.\n",
        "                  estas predicciones deben ser valores discretos (0 y 1), no probabilidades\n",
        "\n",
        "    Returns:\n",
        "        - accuracy: Accuracy del clasificador. Su valor estará en el rango de [0, 1], \n",
        "                    siendo 1 una clasificación perfecta.\n",
        "  \"\"\" \n",
        "  n = y_true.shape[0]\n",
        "\n",
        "  # TODO: Calcule el accuracy. Implementar la versión vectorizada (sin bucles)\n",
        "  acc = None\n",
        "\n",
        "  assert(acc >= 0 and acc <= 1)\n",
        "  return acc"
      ]
    },
    {
      "cell_type": "markdown",
      "metadata": {
        "id": "bMkQ-95oMEJq"
      },
      "source": [
        "Podemos calcular el accuracy de la data de entrenamiento y validación. Para ello, son necesarias las predicciones que devuelven valores discretos (0 y 1)."
      ]
    },
    {
      "cell_type": "code",
      "execution_count": null,
      "metadata": {
        "id": "0VsR3jFw0xuB"
      },
      "outputs": [],
      "source": [
        "# TODO: Obtenga predicciones discretas para la data entrenamiento y validación\n",
        "#       usando los parámetros w y b hallados durante el entrenamiento\n",
        "y_pred_val = None\n",
        "y_pred_train = None\n",
        "\n",
        "# TODO: Calcule el accuracy de ambas predicciones\n",
        "train_acc = None\n",
        "val_acc = None\n",
        "\n",
        "print(f'accuracy: entrenamiento={train_acc:.5f}, validación={val_acc:.5f}')"
      ]
    },
    {
      "cell_type": "markdown",
      "metadata": {
        "id": "j4DQRCj-NOPP"
      },
      "source": [
        "Ha culminado la implementación usando solamente operaciones sobre tensores. En la siguiente sección implementará el modelo usando métodos predefinidos de PyTorch."
      ]
    },
    {
      "cell_type": "markdown",
      "metadata": {
        "id": "Twdx7_ILPUS_"
      },
      "source": [
        "## Regresión logística usando métodos predefinidos (6 puntos)\n",
        "\n",
        "En esta sección, implementará el modelo usando métodos predefinidos de PyTorch. Es válido usar paquetes como `torch.nn` o `torch.optim`. "
      ]
    },
    {
      "cell_type": "markdown",
      "metadata": {
        "id": "pKoXbNMvX448"
      },
      "source": [
        "### Importación de bibliotecas adicionales\n"
      ]
    },
    {
      "cell_type": "code",
      "execution_count": null,
      "metadata": {
        "id": "8yz-eTryYCmV"
      },
      "outputs": [],
      "source": [
        "from torch import nn  # paquete de capas y funciones de activación\n",
        "from torch import optim  # paquete de optimización"
      ]
    },
    {
      "cell_type": "markdown",
      "metadata": {
        "id": "ouYm2q_aO9n0"
      },
      "source": [
        "### Conjunto de datos\n",
        "\n",
        "En esta parte usaremos la data sintética generada en la primera parte del trabajo."
      ]
    },
    {
      "cell_type": "code",
      "execution_count": null,
      "metadata": {
        "id": "wtltbmd3Yoqt"
      },
      "outputs": [],
      "source": [
        "print('Tamaño original del dataset: ', X.shape)\n",
        "print('---------------------------')\n",
        "print('Tamaño de la data de entrenamiento: ', X_train.shape)\n",
        "print('Tamaño de la data de validación: ', X_val.shape)\n",
        "print('Tamaño de la data de prueba: ', X_test.shape)"
      ]
    },
    {
      "cell_type": "markdown",
      "metadata": {
        "id": "4kFRTByfZGQw"
      },
      "source": [
        "### Modelo (1.5 puntos)\n",
        "\n",
        "Para implementar el modelo, usaremos una capa lineal (`nn.Linear`) y la función de activación sigmoide (`nn.Sigmoid`). Ambos clases pueden ser accedidas a través del paquete `torch.nn`. Estas clases también se les conoce como módulos. En PyTorch, una red neuronal se construye a partir de módulos. Los módulos pueden contener otros módulos, y una red neuronal también se considera un módulo en sí. Recordemos que regresión logística puede ser representada como una red neuronal de una capa con varias entradas y una salida.\n",
        "\n",
        "La plantilla básica de un módulo es la siguiente:"
      ]
    },
    {
      "cell_type": "code",
      "execution_count": null,
      "metadata": {
        "id": "l8MJ7nMye22w"
      },
      "outputs": [],
      "source": [
        "class MyModule(nn.Module):\n",
        "\n",
        "  def __init__(self):\n",
        "    super().__init__()\n",
        "    # Aqui podemos definir otros módulos\n",
        "\n",
        "  def forward(self, x):\n",
        "    # Aqui realizamos los cálculos con los módulos antes definidos\n",
        "    pass"
      ]
    },
    {
      "cell_type": "markdown",
      "metadata": {
        "id": "M4FV4P6wfLXq"
      },
      "source": [
        "La función forward es donde se realizan los cálculos del módulo, y se ejecuta cuando llama al módulo (`net = MyModule(); net(x)`). En la función init, generalmente creamos los parámetros del módulo, usando `nn.Parameter`, o definiendo otros módulos que se usan en la función forward como `nn.Linear`. El cálculo de propagación hacia atrás se realiza automáticamente, pero también se puede sobrescribir si se desea."
      ]
    },
    {
      "cell_type": "markdown",
      "metadata": {
        "id": "u6d55YErftbV"
      },
      "source": [
        "#### Módulo de regresión logística\n",
        "\n",
        "Ahora podemos hacer uso de los módulos predefinidos en el paquete `torch.nn` y definir nuestro propio modelo de regresión logística como una red neuronal. Como lo indicado anteriormente, usaremos una capa lineal (`nn.Linear`) que representa la transformación afín, y la función de activación sigmoide (`nn.Sigmoid`). Ambos módulo serán usados dentro de un módulo general llamado `LogisticRegressionNetwork`."
      ]
    },
    {
      "cell_type": "code",
      "execution_count": null,
      "metadata": {
        "id": "Im12urGUgfaW"
      },
      "outputs": [],
      "source": [
        "# Módulo de regresión logística que lo implementa como una red neuronal\n",
        "class LogisticRegressionNetwork(nn.Module):\n",
        "\n",
        "  def __init__(self, num_features, num_outputs):\n",
        "    \"\"\"\n",
        "      Constructor de la clase LogisticRegressionNetwork, que recibe dos parámetros\n",
        "      para la creación del modelo\n",
        "\n",
        "      Args: \n",
        "        - num_features: número de características de entrada (capa de entrada)\n",
        "        - num_outputs: número de neuronas salidas (capa de salida)\n",
        "\n",
        "      Returns:\n",
        "        No se retorna nada pero se definen los módulos respectivos\n",
        "    \"\"\" \n",
        "    super().__init__() # usado porque estamos heredando de la clase nn.Module\n",
        "    \n",
        "    # TODO: Definir un módulo Linear que represente la transformación afín\n",
        "    #       Aqui deberá usar los parámetros num_features y num_outputs\n",
        "    self.linear = None\n",
        "\n",
        "    # TODO: Definir un módulo Sigmoid que represente la función de activación\n",
        "    self.sigmoid = None\n",
        "\n",
        "  def forward(self, X):\n",
        "    \"\"\" \n",
        "      Este método realiza la propagación hacia adelante en una red neuronal.\n",
        "      En nuestro problema realizará las mismas operaciones del método model()\n",
        "      implementado en la primera parte de este trabajo\n",
        "\n",
        "      Args:\n",
        "        - X: tensor de dimensión (n, m), donde n es el número de datos y m\n",
        "            es el número de características\n",
        "      \n",
        "      Returns:\n",
        "        - y_pred: tensor de dimensión (n, 1), representando las predicciones\n",
        "                  con valores entre 0 y 1\n",
        "    \"\"\"   \n",
        "    # TODO: Usando las inicializaciones en el constructor (__init__) realice\n",
        "    #       la propagación hacia adelante. Es decir aplique self.linear para\n",
        "    #       la transformación afín y self.sigmoid para la función de activación\n",
        "    #       de self.sigmoid\n",
        "    y_pred = None\n",
        "\n",
        "    assert(y_pred.shape == (X.shape[0], 1))\n",
        "    return y_pred"
      ]
    },
    {
      "cell_type": "markdown",
      "metadata": {
        "id": "K5THYYXpkNAS"
      },
      "source": [
        "Usaremos el módulo implementado para modelar regresión logística. Para el conjunto de datos sintéticos el número de características es 2 y la salida es 1 ya que estamos trabajando con clasificación binaria."
      ]
    },
    {
      "cell_type": "code",
      "execution_count": null,
      "metadata": {
        "id": "joEaFRB3khVo"
      },
      "outputs": [],
      "source": [
        "# Creamos una instancia del modelo\n",
        "model = LogisticRegressionNetwork(X.shape[1], 1)\n",
        "\n",
        "# Mostramos el modelo\n",
        "print(model)"
      ]
    },
    {
      "cell_type": "markdown",
      "metadata": {
        "id": "JwBHPN6EkrW0"
      },
      "source": [
        "La impresión del modelo enumera todos los submódulos que contiene. Los parámetros de un módulo se pueden obtener usando sus funciones `parameters()`, o `named_parameters()` para obtener un nombre para cada objeto de parámetro. Para nuestro modelo, tenemos los siguientes parámetros: "
      ]
    },
    {
      "cell_type": "code",
      "execution_count": null,
      "metadata": {
        "id": "vXCe6npNkKqk"
      },
      "outputs": [],
      "source": [
        "for name, param in model.named_parameters():\n",
        "  print(\"Parámetro %s, shape %s\" % (name, str(param.shape)))"
      ]
    },
    {
      "cell_type": "markdown",
      "metadata": {
        "id": "HMMOZiynlLXE"
      },
      "source": [
        "Cada capa lineal tiene una matriz de peso de la forma \"[salida, entrada]\", y un bias de la forma \"[salida]\". La función de activación sigmoide no tiene ningún parámetro. Notar que en la implementación manual de la primera parte, la matriz de pesos es de la forma \"[entrada, salida]\". Existen diferentes formas de representar los pesos, al final el problema se resuelve de la misma forma solo que con diferencias en las operaciones matriciales. Al usar PyTorch no tendremos que preocuparnos ya que esas operaciones se realizan internamente. "
      ]
    },
    {
      "cell_type": "markdown",
      "metadata": {
        "id": "0IiHLG4HmGE0"
      },
      "source": [
        "### Función de Pérdida (0.5 puntos)\n",
        "\n",
        "PyTorch proporciona una lista de funciones de pérdida predefinidas que podemos usar. Por ejemplo, para la entropía cruzada binaria BCE, PyTorch tiene dos módulos: `nn.BCELoss()`, `nn.BCEWithLogitsLoss()`. Mientras que `nn.BCELoss` espera que las entradas $x$ estén en el rango $[0,1]$, es decir, la salida de un sigmoide,`nn.BCEWithLogitsLoss` combina la capa sigmoide y la pérdida de BCE en una sola clase. Para el modelo previamente definido, usaremos el módulo `nn.BCELoss()` ya que la salida del modelo son probabilidades."
      ]
    },
    {
      "cell_type": "code",
      "execution_count": null,
      "metadata": {
        "id": "kdLURPOdnrIY"
      },
      "outputs": [],
      "source": [
        "# TODO: Definir el módulo de función de pérdida BCE\n",
        "loss_fn = None"
      ]
    },
    {
      "cell_type": "code",
      "execution_count": null,
      "metadata": {
        "id": "uZ1p5Cg5oTJN"
      },
      "outputs": [],
      "source": [
        "# Probemos la implementación\n",
        "y_pred = model(X_train)\n",
        "print(\"Error actual: \", loss_fn(y_pred, y_train))"
      ]
    },
    {
      "cell_type": "markdown",
      "metadata": {
        "id": "QHiT55tOoK2Y"
      },
      "source": [
        "Como lo indicado anteriormente, es posible usar el módulo `nn.BCEWithLogitsLoss` que combina la función sigmoide con la función de pérdida BCE. En este caso nuestro módulo de regresión logística no necesitaría el submódulo `nn.Sigmoid`. La función `nn.BCEWithLogitsLoss` es más estable que `BCELoss` por lo que es más recomendable. Sin embargo, para fines de entender mejor el modelo y compararlo con la implementación de la primera parte, usamos `BCELoss`."
      ]
    },
    {
      "cell_type": "markdown",
      "metadata": {
        "id": "23d63sNZq_8O"
      },
      "source": [
        "### Gradiente Descendente Estocástico (0.5 puntos)\n",
        "\n",
        "Para actualizar los parámetros, PyTorch proporciona el paquete `torch.optim` que tiene implementados los optimizadores más populares. En este trabajo se usará gradiente descendente (`optim.SGD`)."
      ]
    },
    {
      "cell_type": "code",
      "execution_count": null,
      "metadata": {
        "id": "0AdykOzQrkz3"
      },
      "outputs": [],
      "source": [
        "# TODO: Definir el optimizador SGD usando los parámetros del modelo y \n",
        "#       una tasa de aprendizaje de 0.001\n",
        "optimizer = None"
      ]
    },
    {
      "cell_type": "markdown",
      "metadata": {
        "id": "CKCOjBLVsJSQ"
      },
      "source": [
        "### Entrenamiento (2 puntos)\n",
        "\n",
        "Del mismo modo a lo realizado en la primera parte, deberá implementar los métodos `train_step()` y `val_step()` para realizar las fases de entrenamiento y validación respectivamente. A diferencia de las implementaciones con tensores, aqui deberá usar el optimizador antes definido asi como el método `backward()` para el cálculo de gradientes."
      ]
    },
    {
      "cell_type": "markdown",
      "metadata": {
        "id": "zPID070gGhbN"
      },
      "source": [
        "#### Fase de Entrenamiento (1 punto)\n",
        "\n",
        "Durante esta fase se usará la data de entrenamiento `(X_train, y_train)`. En esta fase **actualizamos los parámetros del modelo** mediante gradiente descendente usando mini lotes."
      ]
    },
    {
      "cell_type": "code",
      "execution_count": null,
      "metadata": {
        "id": "AROTYkUYsxGS"
      },
      "outputs": [],
      "source": [
        "def train_step(X_train, y_train, model, loss_fn, optimizer, batch_size):\n",
        "  \"\"\"\n",
        "    Este método realiza la fase de entrenamiento usando la data de entrenamiento \n",
        "    (X_train, y_train) la que usaremos para actualizar los parámetros del modelo.\n",
        "\n",
        "    Args:\n",
        "      - X_train: tensor de dimensión (n, m), donde n es el número de \n",
        "            datos de entrenamiento y m es el número de características\n",
        "      - y_train: tensor de dimensión (n, 1), representando las etiquetas\n",
        "            reales de la data de entrenamiento\n",
        "      - model: modelo que recibe la data de entrada y devuelve probabilidades           \n",
        "      - loss_fn: función de pérdida\n",
        "      - optimizer: optimizador para la actualización de los parámetros\n",
        "      - batch_size: tamaño de cada lote\n",
        "      \n",
        "    Returns:\n",
        "      - train_loss: tensor de dimensión (1,), representando la pérdida de toda\n",
        "                    la data de entrenamiento\n",
        "  \"\"\"\n",
        "  n, m = X_train.shape\n",
        "\n",
        "  # Pérdida de entrenamiento total\n",
        "  train_loss = 0.\n",
        "\n",
        "  # Iteramos sobre todos los datos de entrenamiento usando mini lotes\n",
        "  for X, y in data_iter(X_train, y_train, batch_size):\n",
        "\n",
        "    # TODO: Obtener probabilidades del lote actual a partir del modelo \n",
        "    #       creado con nn.Module\n",
        "    y_pred = None\n",
        "\n",
        "    # TODO: Calcular la pérdida entre la predicción y valor real\n",
        "    loss = None\n",
        "\n",
        "    # TODO: Calcular las gradientes de la función de pérdida usando la función\n",
        "    #       backward()\n",
        "    None\n",
        "\n",
        "    # TODO: Actualizar los parámetros con un paso de gradiente descendente usando\n",
        "    #       el optimizador sgd definido anteriormente.\n",
        "    None\n",
        "\n",
        "    # TODO: Establecer los gradientes en cero para que no se acumulen\n",
        "    None\n",
        "\n",
        "    # Acumulamos pérdida\n",
        "    train_loss += loss.item() * X_batch.shape[0]\n",
        "\n",
        "  # Pérdida promedio\n",
        "  train_loss /= n\n",
        "\n",
        "  return train_loss"
      ]
    },
    {
      "cell_type": "code",
      "execution_count": null,
      "metadata": {
        "id": "7ZLmhWApMHWn"
      },
      "outputs": [],
      "source": [
        "# Probemos la implementación\n",
        "print(f'Error de entrenamiento: {train_step(X_train, y_train, model, loss_fn, optimizer, 32):.8f}')"
      ]
    },
    {
      "cell_type": "markdown",
      "metadata": {
        "id": "xwx-dm0vuZO9"
      },
      "source": [
        "#### Fase de Validación (0.5 puntos)\n",
        "\n",
        "En esta fase se usará la data de validación `(X_val, y_val)`. La validación se llevará a cabo en cada época, luego de la fase de entrenamiento. Recuerde que en la fase de validación **no actualizamos los parámetros**:"
      ]
    },
    {
      "cell_type": "code",
      "execution_count": null,
      "metadata": {
        "id": "mtge8eiWMnbK"
      },
      "outputs": [],
      "source": [
        "def validation_step(X_val, y_val, model, loss_fn, batch_size):\n",
        "  \"\"\"\n",
        "    Este método realiza la fase de validación usando la data de validación \n",
        "    (X_val, y_val) y los parámetros del modelo entrenado.\n",
        "\n",
        "    Args:\n",
        "      - X_val: tensor de dimensión (n_val, m), donde n_val es el número de \n",
        "            datos de validación y m es el número de características\n",
        "      - y_val: tensor de dimensión (n_val, 1), representando las etiquetas\n",
        "            reales de la data de validación \n",
        "            - model: modelo que recibe la data de entrada y devuelve logits\n",
        "      - model: modelo que recibe la data de entrada y devuelve probabilidades           \n",
        "      - loss_fn: función de pérdida\n",
        "      - batch_size: tamaño de cada lote\n",
        "\n",
        "    Returns:\n",
        "      - val_loss: pérdida de toda la data de validación\n",
        "  \"\"\"\n",
        "  n_val, m = X_val.shape\n",
        "  \n",
        "  # Pérdida de validación total\n",
        "  val_loss = 0.\n",
        "\n",
        "  # Debido a que en la fase de validación no actualizamos los parámetros\n",
        "  # no es necesario usar los gradientes\n",
        "  with torch.no_grad():\n",
        "\n",
        "    # Iteramos sobre todos los datos y mostramos el tamaño de cada lote\n",
        "    # No es necesario aleatorizar la data de validación\n",
        "    for X, y in data_iter(X_val, y_val, batch_size, False):\n",
        "\n",
        "      # TODO: Obtener probabilidades del lote actual a partir del modelo\n",
        "      y_pred = None\n",
        "\n",
        "      # TODO: Calcular la pérdida entre la predicción y valor real\n",
        "      loss = None\n",
        "      \n",
        "      # Acumulamos pérdida\n",
        "      val_loss += loss.item() * X.shape[0]\n",
        "\n",
        "  # Pérdida promedio\n",
        "  val_loss /= n_val\n",
        "\n",
        "  return val_loss"
      ]
    },
    {
      "cell_type": "code",
      "execution_count": null,
      "metadata": {
        "id": "ZmjjfkYfNJk_"
      },
      "outputs": [],
      "source": [
        "# Probemos la implementación\n",
        "print(f'Error de validación: {validation_step(X_val, y_val, model, loss_fn, batch_size):.8f}')"
      ]
    },
    {
      "cell_type": "markdown",
      "metadata": {
        "id": "XAuZl4gfvoEU"
      },
      "source": [
        "#### Fase Principal (0.5 puntos)\n",
        "\n",
        "Ahora que tenemos todas las partes en su lugar, estamos listos para implementar el algoritmo de entrenamiento principal. A diferencia de la implementación de la primera parte, aqui adicionaremos la función de pérdida y el optimizador como parte de este método. El algoritmo está dado por lo siguiente:\n",
        "\n",
        "* Definir la función de pérdida\n",
        "* Definir el optimizador usando los parámetros del módelo\n",
        "* Iterar por un determinado número de épocas. Para cada época:\n",
        "    * Entrenar el modelo usando la data de entrenamiento\n",
        "    * Validar el modelo usando la data de validación\n"
      ]
    },
    {
      "cell_type": "code",
      "execution_count": null,
      "metadata": {
        "id": "3LFf6BQvKIk7"
      },
      "outputs": [],
      "source": [
        "def train_model(X_train, y_train, X_val, y_val, model, num_epochs, learning_rate, batch_size):\n",
        "  \"\"\"\n",
        "    Este método realiza el entrenamiento del modelo usando (X_train, y_train), y\n",
        "    valida los resultados con (X_val, y_val).\n",
        "\n",
        "    Args:\n",
        "      - X_train: tensor de dimensión (n, m), donde n es el número de \n",
        "            datos de entrenamiento y m es el número de características\n",
        "      - y_train: tensor de dimensión (n, 1), representando las etiquetas\n",
        "            reales de la data de entrenamiento     \n",
        "      - X_val: tensor de dimensión (n_val, m), donde n_val es el número de \n",
        "            datos de validación y m es el número de características\n",
        "      - y_val: tensor de dimensión (n_val, 1), representando las etiquetas\n",
        "            reales de la data de validación \n",
        "      - model: modelo que recibe la data de entrada y devuelve probabilidades            \n",
        "      - num_epochs: número de épocas\n",
        "      - learning_rate: tasa de aprendizaje\n",
        "      - batch_size: tamaño de cada lote\n",
        "\n",
        "    Returns:\n",
        "      No se retorna nada en este método\n",
        "  \"\"\"\n",
        "  n, m = X_train.shape\n",
        "\n",
        "  # TODO: Defina el módulo de función de pérdida BCELoss\n",
        "  loss_fn = None\n",
        "\n",
        "  # TODO: Defina el optimizador sgd usando los parámetros del modelo y\n",
        "  #       la tasa de aprendizaje\n",
        "  optimizer = None\n",
        "\n",
        "  # TODO: Itere sobre el número de épocas\n",
        "  for epoch in range(num_epochs):\n",
        "    # Fase de Entrenamiento\n",
        "    # TODO: Usar el método antes implementado para realizar el entrenamiento\n",
        "    train_loss = None\n",
        "\n",
        "    # Fase de Validación\n",
        "    # TODO: Usar el método antes implementado para realizar la validación    \n",
        "    val_loss = None\n",
        "\n",
        "    # Imprimimos el error\n",
        "    print(f'Epoch ({epoch+1}/{num_epochs}): train_loss = {train_loss:.8f}, val_loss= {val_loss:.8f}')"
      ]
    },
    {
      "cell_type": "markdown",
      "metadata": {
        "id": "WdoN-dWewpy_"
      },
      "source": [
        "Ahora probaremos la implementación, puede probar otros valores en los hiperparámetros que mejoren los resultados:"
      ]
    },
    {
      "cell_type": "code",
      "execution_count": null,
      "metadata": {
        "id": "epfSsdzAFBbs"
      },
      "outputs": [],
      "source": [
        "# Hiperparámetros\n",
        "num_epochs = 500\n",
        "learning_rate = 0.1\n",
        "batch_size = 32\n",
        "\n",
        "# Creamos modelo\n",
        "model = LogisticRegressionNetwork(X.shape[1], 1)\n",
        "\n",
        "# Entrenamiento\n",
        "train_model(X_train, y_train, X_val, y_val, model, num_epochs, learning_rate, batch_size)"
      ]
    },
    {
      "cell_type": "markdown",
      "metadata": {
        "id": "FkyS3P5Pxci4"
      },
      "source": [
        "Como se puede observar, tanto el error de entrenamiento como el de validación comienzan a bajar, lo que nos indica que el entrenamiento se esta realizando de forma correcta."
      ]
    },
    {
      "cell_type": "markdown",
      "metadata": {
        "id": "3vxeeRbVxfbz"
      },
      "source": [
        "### Predicción (0.5 puntos)\n",
        "\n",
        "Las predicciones actuales son probabilidades. Sin embargo, en clasificación estamos interesados en valores discretos, en este caso nos interesan valores 0 y 1. Por lo tanto, podemos usar un threshold, si las probabilidades de predicción son mayores que ese threshold entonces clasificamos esos datos como clase 1 sino como clase 0. "
      ]
    },
    {
      "cell_type": "code",
      "execution_count": null,
      "metadata": {
        "id": "jV0Dw7y3xkwc"
      },
      "outputs": [],
      "source": [
        "def predict(X, model, threshold=0.5):\n",
        "  \"\"\" \n",
        "     Este método predice si la etiqueta es 0 o 1 utilizando los parámetros\n",
        "     del modelo (w, b) y un threshold\n",
        "\n",
        "    Args:\n",
        "      - X: tensor de dimensión (n x m), donde n es el número de datos y m\n",
        "           es el número de características\n",
        "      - model: modelo que recibe la data de entrada y devuelve probabilidades\n",
        "      - threshold: umbral para obtener valores discretos a partir de probabilidades\n",
        "\n",
        "    Returns:\n",
        "      - y_pred: tensor de dimensión (n x 1), representando las predicciones\n",
        "                con valores 0 o 1. No probabilidades.\n",
        "  \"\"\"    \n",
        "  # Debido a que en esta fase no actualizamos los parámetros\n",
        "  # no es necesario usar los gradientes\n",
        "  with torch.no_grad():\n",
        "    #TODO: Obtenga probabilidades a partir del modelo\n",
        "    y_prob = None\n",
        "\n",
        "    #TODO: Convierta las probabilidades en 0 (si activación < threshold) o \n",
        "    # 1 (si activación >= threshold), almacenar las predicciones en un tensor y_pred\n",
        "    #      Se recomienda implementar la versión vectorizada (sin bucles)\n",
        "    y_pred = None\n",
        "  \n",
        "  assert(y_pred.shape == y_prob.shape)\n",
        "  return y_pred "
      ]
    },
    {
      "cell_type": "code",
      "execution_count": null,
      "metadata": {
        "id": "Qc6sqlBNGTlZ"
      },
      "outputs": [],
      "source": [
        "# Probemos la implementación\n",
        "y_pred_val = predict(X_val, model)"
      ]
    },
    {
      "cell_type": "markdown",
      "metadata": {
        "id": "HDI3e_KDxwtI"
      },
      "source": [
        "Podemos visualizar el límite de decisión, para ello será necesario acceder a los pesos y bias del modelo"
      ]
    },
    {
      "cell_type": "code",
      "execution_count": null,
      "metadata": {
        "id": "lu8Di2Mmx1bM"
      },
      "outputs": [],
      "source": [
        "# Accedemos a los pesos y bias, cambiamos las dimensinoes de los pesos acorde\n",
        "# a la implementación inicial\n",
        "w_model = model.linear.weight.reshape(-1, 1).detach()\n",
        "b_model = model.linear.bias.detach()\n",
        "plot_decision_boundary(X_val, y_pred_val, w_model, b_model)"
      ]
    },
    {
      "cell_type": "markdown",
      "metadata": {
        "id": "bphOjgZdzvcx"
      },
      "source": [
        "### Métrica de Evaluación (0.5 puntos)\n",
        "\n",
        "La implementación realizada en la primera parte es válida para esta sección. Por lo tanto, solo deberá usar el método 'accuracy' para mostrar los resultados finales."
      ]
    },
    {
      "cell_type": "code",
      "execution_count": null,
      "metadata": {
        "id": "L05EGdS9z70j"
      },
      "outputs": [],
      "source": [
        "# TODO: Obtenga predicciones discretas para la data entrenamiento y validación\n",
        "y_pred_val = None\n",
        "y_pred_train = None\n",
        "\n",
        "# TODO: Calcule el accuracy de ambas predicciones\n",
        "train_acc = None\n",
        "val_acc = None\n",
        "\n",
        "print(f'accuracy: entrenamiento={train_acc:.5f}, validación={val_acc:.5f}')"
      ]
    },
    {
      "cell_type": "markdown",
      "metadata": {
        "id": "A2qMijMWCKt1"
      },
      "source": [
        "Podemos observar que el accuracy es perfecto debido a que el conjunto de datos sintético es linealmente separable y es fácil de clasificar."
      ]
    },
    {
      "cell_type": "markdown",
      "metadata": {
        "id": "0xTopmGh1IOk"
      },
      "source": [
        "### Prueba Final (0.5 puntos)\n",
        "\n",
        "Es momento de realizar predicciones finales para la data de prueba (test)."
      ]
    },
    {
      "cell_type": "code",
      "execution_count": null,
      "metadata": {
        "id": "yXmfnq-D1WCa"
      },
      "outputs": [],
      "source": [
        "# TODO: Obtenga predicciones discretas para la data de prueba\n",
        "y_pred_test = None\n",
        "\n",
        "# TODO: Calcule el accuracy de la data de prueba\n",
        "test_acc = None\n",
        "\n",
        "print(f'Accuracy de data de prueba={test_acc:.5f}')\n"
      ]
    }
  ],
  "metadata": {
    "colab": {
      "collapsed_sections": [],
      "provenance": []
    },
    "gpuClass": "standard",
    "kernelspec": {
      "display_name": "Python 3.8.13 ('torch-gpu')",
      "language": "python",
      "name": "python3"
    },
    "language_info": {
      "codemirror_mode": {
        "name": "ipython",
        "version": 3
      },
      "file_extension": ".py",
      "mimetype": "text/x-python",
      "name": "python",
      "nbconvert_exporter": "python",
      "pygments_lexer": "ipython3",
      "version": "3.8.13"
    },
    "vscode": {
      "interpreter": {
        "hash": "5b75022e8f337c09501e6c3b96c9485e311fd9a64ea76c6bfc1d412114d48085"
      }
    }
  },
  "nbformat": 4,
  "nbformat_minor": 0
}
