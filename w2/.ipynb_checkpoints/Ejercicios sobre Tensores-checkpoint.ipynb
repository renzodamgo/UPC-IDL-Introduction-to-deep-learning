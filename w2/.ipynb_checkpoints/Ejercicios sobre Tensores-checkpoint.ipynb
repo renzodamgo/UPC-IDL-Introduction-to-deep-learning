{
  "nbformat": 4,
  "nbformat_minor": 0,
  "metadata": {
    "colab": {
      "name": "T1. Introducción_a_PyTorch (Ejercicios).ipynb",
      "provenance": [],
      "collapsed_sections": []
    },
    "kernelspec": {
      "name": "python3",
      "display_name": "Python 3"
    },
    "language_info": {
      "name": "python"
    },
    "accelerator": "GPU",
    "gpuClass": "standard"
  },
  "cells": [
    {
      "cell_type": "markdown",
      "source": [
        "# Introducción a PyTorch (Ejercicios)\n",
        "\n",
        "**Curso:** CC227 - Introduction to Deep Learning\n",
        "\n",
        "**Profesor:** Jhosimar George Arias Figueroa\n",
        "\n",
        "*Universidad Peruana de Ciencias Aplicadas (UPC)*\n",
        "\n",
        "-------"
      ],
      "metadata": {
        "id": "uJR8Z7ZSwGuE"
      }
    },
    {
      "cell_type": "markdown",
      "source": [
        "Este notebook contiene ejercicios prácticos acerca sobre PyTorch.\n"
      ],
      "metadata": {
        "id": "yKJGsgtn7JSn"
      }
    },
    {
      "cell_type": "markdown",
      "source": [
        "## 0. Importación de bibliotecas\n",
        "\n",
        "Primero importe las bibliotecas de torch y numpy"
      ],
      "metadata": {
        "id": "ZfVSRL-v7nHj"
      }
    },
    {
      "cell_type": "code",
      "source": [
        "# TODO: Importe la biblioteca numpy\n",
        "\n",
        "\n",
        "# TODO: Importe la biblioteca torch\n",
        "\n",
        "\n",
        "# Importamos biblioteca random y time\n",
        "import random\n",
        "import time"
      ],
      "metadata": {
        "id": "RJ4lYWKS7t3G"
      },
      "execution_count": null,
      "outputs": []
    },
    {
      "cell_type": "markdown",
      "source": [
        "Adicionalmente controlaremos la aleatoriedad para poder reproducir los resultados. Para ello, tenemos la siguiente función:"
      ],
      "metadata": {
        "id": "uiI7EiOS-Gy-"
      }
    },
    {
      "cell_type": "code",
      "source": [
        "def set_seed(seed=None, seed_torch=True):\n",
        "  \"\"\"\n",
        "    Función que controla la aleatoriedad. Se deben importar módulos NumPy y \n",
        "    aleatorios.\n",
        "\n",
        "    Args:\n",
        "      - seed : entero no negativo que define el estado aleatorio. \n",
        "               El valor predeterminado es `None`.\n",
        "      - seed_torch : `True` establece la semilla aleatoria para los tensores \n",
        "                     de pytorch, entonces el módulo de pytorch debe ser importado. \n",
        "                     El valor predeterminado es `True`.\n",
        "  \"\"\"\n",
        "  if seed is None:\n",
        "    seed = np.random.choice(2 ** 32)\n",
        "  random.seed(seed)\n",
        "  np.random.seed(seed)\n",
        "  if seed_torch:\n",
        "    torch.manual_seed(seed)\n",
        "    torch.cuda.manual_seed_all(seed)\n",
        "    torch.cuda.manual_seed(seed)\n",
        "    torch.backends.cudnn.benchmark = False\n",
        "    torch.backends.cudnn.deterministic = True\n",
        "  \n",
        "  print(f'Semilla {seed} ha sido asignada.')"
      ],
      "metadata": {
        "id": "cYQvpRwc-HWy"
      },
      "execution_count": null,
      "outputs": []
    },
    {
      "cell_type": "code",
      "source": [
        "#TODO: Asignar semilla igual a 42 para las pruebas\n"
      ],
      "metadata": {
        "id": "MYlbTsZ0OuGi"
      },
      "execution_count": null,
      "outputs": []
    },
    {
      "cell_type": "markdown",
      "source": [
        "## 1. Creación de tensores\n",
        "\n",
        "A continuación encontrará un código incompleto. Complete el código que falta para crear los siguientes tensores:\n",
        "\n",
        "- $A:$ tensor de 10 por 11 formado por unos\n",
        "- $B:$ tensor con elementos iguales a los elementos de una matriz numpy $Z$\n",
        "- $C:$ tensor con el mismo número de elementos que $A$ pero con valores muestreados a partir de la siguiente distribución $\\sim \\mathcal{U}(0,1)^\\dagger$\n",
        "- $D:$ tensor 1D que contiene los números pares entre 4 y 40 inclusive.\n",
        "<br>\n",
        "\n",
        "$^\\dagger$: $\\mathcal{U(\\alpha, \\beta)}$ denota una [distribución uniforme](https://en.wikipedia.org/wiki/Continuous_uniform_distribution) de $\\alpha$ a $\\beta $, con $\\alpha, \\beta \\in \\mathbb{R}$.\n"
      ],
      "metadata": {
        "id": "sOZONtKT3E21"
      }
    },
    {
      "cell_type": "code",
      "execution_count": null,
      "metadata": {
        "id": "QVjYv9IWbrHg"
      },
      "outputs": [],
      "source": [
        "def tensor_creation(Z):\n",
        "  \"\"\"\n",
        "    Función que crea varios tensores.\n",
        "\n",
        "    Args:\n",
        "      - Z: arreglo de numpy\n",
        "      \n",
        "    Returns:\n",
        "      - A: tensor de dimensión (10,11) conformado de solo unos\n",
        "      - B: tensor con elementos iguales a los elementos de la matriz numpy Z\n",
        "      - C: tensor con el mismo número de elementos que A pero con valores ∼U(0,1)\n",
        "      - D: tensor 1D que contiene los números pares entre 4 y 40 inclusive\n",
        "  \"\"\" \n",
        "  ##################################################\n",
        "  ## TODO: completar las siguientes lineas de código\n",
        "  ##################################################\n",
        "  A = ...\n",
        "  B = ...\n",
        "  C = ...\n",
        "  D = ...\n",
        "\n",
        "  return A, B, C, D"
      ]
    },
    {
      "cell_type": "markdown",
      "source": [
        "Puede probar la funcionalidad llamando al metodo:"
      ],
      "metadata": {
        "id": "a48_SK0MbVHx"
      }
    },
    {
      "cell_type": "code",
      "source": [
        "# Matriz de vandermonde usando numpy\n",
        "Z = np.vander([1, 2, 3], 4)\n",
        "\n",
        "A, B, C, D = tensor_creation(Z)\n",
        "\n",
        "print(\"Tensor A:\")\n",
        "print(A)\n",
        "print(\"Tamaño:\", A.size())\n",
        "print(\"\\nTensor B:\")\n",
        "print(B)\n",
        "print(\"Tamaño:\", B.size())\n",
        "print(\"\\nTensor C:\")\n",
        "print(C)\n",
        "print(\"Tamaño:\", C.size())\n",
        "print(\"\\nTensor D:\")\n",
        "print(D)\n",
        "print(\"Tamaño:\", D.size())"
      ],
      "metadata": {
        "id": "x0BHH-p2bYhf"
      },
      "execution_count": null,
      "outputs": []
    },
    {
      "cell_type": "markdown",
      "source": [
        "## Operaciones tensoriales simples\n",
        "\n",
        "Implemente la siguiente expresión que involucra operaciones de matrices:\n",
        "\n",
        "\\begin{equation}\n",
        "\\textbf{A} = \n",
        "\\begin{bmatrix}2 &4 \\\\5 & 7 \n",
        "\\end{bmatrix} \n",
        "\\begin{bmatrix} 1 &1 \\\\2 & 3\n",
        "\\end{bmatrix} \n",
        "+ \n",
        "\\begin{bmatrix}10 & 10  \\\\ 12 & 1 \n",
        "\\end{bmatrix} \n",
        "\\end{equation}"
      ],
      "metadata": {
        "id": "kELtfK_HNspw"
      }
    },
    {
      "cell_type": "code",
      "source": [
        "def simple_operations(a1, a2, a3):\n",
        "  \"\"\"\n",
        "    Función para demostrar operaciones simples, i.e., multiplicación de tensor\n",
        "    a1 con tensor a2 y sumarlo con el tensor a3\n",
        "\n",
        "    Args:\n",
        "      - a1: tensor de tamaño (2,2)\n",
        "      - a2: tensor de tamaño (2,2)\n",
        "      - a3: tensor de tamaño (2,2)\n",
        "\n",
        "    Returns:\n",
        "      - answer: tensor tamaño (2,2) resultado de a1 multiplicado con a2, \n",
        "                sumado con a3\n",
        "  \"\"\"\n",
        "  ################################################\n",
        "  ## TODO: completar el código usando los tensores\n",
        "  ################################################\n",
        "  answer = ...\n",
        "\n",
        "  return answer"
      ],
      "metadata": {
        "id": "zdPuWvfu1utK"
      },
      "execution_count": null,
      "outputs": []
    },
    {
      "cell_type": "code",
      "source": [
        "# Inicialización de tensores\n",
        "a1 = torch.tensor([[2, 4], [5, 7]])\n",
        "a2 = torch.tensor([[1, 1], [2, 3]])\n",
        "a3 = torch.tensor([[10, 10], [12, 1]])\n",
        "\n",
        "A = simple_operations(a1, a2, a3)\n",
        "print(\"Tensor A:\")\n",
        "print(A)\n",
        "print(\"Tamaño:\", A.size())"
      ],
      "metadata": {
        "id": "ANefI5l5-AsQ"
      },
      "execution_count": null,
      "outputs": []
    },
    {
      "cell_type": "markdown",
      "source": [
        "Implemente el producto punto entre dos vectores:\n",
        "\n",
        "\\begin{equation}\n",
        "b = \n",
        "\\begin{bmatrix} 3 \\\\ 5 \\\\ 7\n",
        "\\end{bmatrix} \\cdot \n",
        "\\begin{bmatrix} 2 \\\\ 4 \\\\ 8\n",
        "\\end{bmatrix}\n",
        "\\end{equation}"
      ],
      "metadata": {
        "id": "g0wUzzDYNgk_"
      }
    },
    {
      "cell_type": "code",
      "source": [
        "def dot_product(b1, b2):\n",
        "  ###############################################\n",
        "  ## TODO: Completar el código usando los tensores\n",
        "  ###############################################\n",
        "  \"\"\"\n",
        "    Función para demostrar el funcionamiento del producto escalar. El producto \n",
        "    punto es una operación algebraica que toma dos secuencias de igual longitud \n",
        "    (generalmente vectores) y devuelve un solo número.\n",
        "\n",
        "    Args:\n",
        "      - b1: tensor de tamaño (3)\n",
        "      - b2: tensor de tamaño (3)\n",
        "\n",
        "    Returns:\n",
        "      - product: tensor de tamaño (1) conteniendo el resultado del producto escalar\n",
        "  \"\"\"\n",
        "  # Revisar el método torch.dot() \n",
        "  product = ...\n",
        "  return product\n"
      ],
      "metadata": {
        "id": "DBLMzqTx_yWE"
      },
      "execution_count": null,
      "outputs": []
    },
    {
      "cell_type": "code",
      "source": [
        "# Inicialización de tensores\n",
        "b1 = torch.tensor([3, 5, 7])\n",
        "b2 = torch.tensor([2, 4, 8])\n",
        "\n",
        "b = dot_product(b1, b2)\n",
        "\n",
        "print(\"Tensor b:\")\n",
        "print(b)\n",
        "print(\"Tamaño:\", b.size())"
      ],
      "metadata": {
        "id": "A6Z9PX70Utdp"
      },
      "execution_count": null,
      "outputs": []
    },
    {
      "cell_type": "markdown",
      "source": [
        "##3. Manipulación de tensores\n",
        "Usando una combinación de los métodos anteriores, complete las funciones a continuación:"
      ],
      "metadata": {
        "id": "P_ytJvxiWlUu"
      }
    },
    {
      "cell_type": "markdown",
      "source": [
        "**Función A**\n",
        "\n",
        "Esta función recibe dos tensores 2D $A$ y $B$ y devuelve la suma de cada columna de A multiplicada por la suma de todos los elementos de $B$, es decir, un escalar, por ejemplo,\n",
        "\n",
        "\\begin{equation}\n",
        "  \\text{Si }\n",
        "  A = \\begin{bmatrix}\n",
        "  1 & 1 \\\\\n",
        "  2 & 3\n",
        "  \\end{bmatrix}\n",
        "  \\text{y }\n",
        "  B = \\begin{bmatrix}\n",
        "  1 & 2 & 3 \\\\\n",
        "  1 & 2 & 3\n",
        "  \\end{bmatrix}\n",
        "  \\text{ entonces }\n",
        "  Out =  \\begin{bmatrix}\n",
        "  3 & 4\n",
        "  \\end{bmatrix} \\cdot 12 = \\begin{bmatrix}\n",
        "  36 & 48\n",
        "  \\end{bmatrix}\n",
        "\\end{equation}"
      ],
      "metadata": {
        "id": "BW11kDJaX74a"
      }
    },
    {
      "cell_type": "code",
      "source": [
        "def functionA(A, B):\n",
        "  \"\"\"\n",
        "    Esta función recibe dos tensores en 2D y retorna la suma por cada columna \n",
        "    de A multiplicado por la suma de todos los elementos de B\n",
        "\n",
        "    Args:\n",
        "      - A: torch.Tensor\n",
        "      - A: torch.Tensor\n",
        "\n",
        "    Returns:\n",
        "      - output: tensor conteniendo el resultado\n",
        "  \"\"\"\n",
        "  # TODO: Multiplicación de la suma de tensores\n",
        "  output = ...\n",
        "\n",
        "  return output\n"
      ],
      "metadata": {
        "id": "P0wrhBdlWrnn"
      },
      "execution_count": null,
      "outputs": []
    },
    {
      "cell_type": "code",
      "source": [
        "A = torch.tensor([[1, 1], [2, 3]])\n",
        "B = torch.tensor([[1, 2, 3], [1, 2, 3]])\n",
        "\n",
        "print(functionA(A, B))"
      ],
      "metadata": {
        "id": "hUQfsl-OcORJ"
      },
      "execution_count": null,
      "outputs": []
    },
    {
      "cell_type": "markdown",
      "source": [
        "**Función B**\n",
        "\n",
        "Esta función recibe una matriz cuadrada $C$ y devuelve un tensor 2D que consta del tensor C aplanado (flattened) con el índice de cada elemento adjunto a este tensor en la primera columna, por ejemplo,\n",
        "\n",
        "\\begin{equation}\n",
        "  \\text{Si }\n",
        "  C = \\begin{bmatrix}\n",
        "  2 & 3 \\\\\n",
        "  -1 & 10\n",
        "  \\end{bmatrix}\n",
        "  \\text{ entonces }\n",
        "  Out = \\begin{bmatrix}\n",
        "  0 & 2 \\\\\n",
        "  1 & 3 \\\\\n",
        "  2 & -1 \\\\\n",
        "  3 & 10\n",
        "  \\end{bmatrix}\n",
        "\\end{equation}\n",
        "\n",
        "**Hint:** Preste mucha atención a las dimensiones de los tensores."
      ],
      "metadata": {
        "id": "dHOdguHYcwOG"
      }
    },
    {
      "cell_type": "code",
      "source": [
        "def functionB(C):\n",
        "  \"\"\"\n",
        "    Esta función recibe una matriz cuadrada y retorna un tensor 2D conteniendo\n",
        "    el vector aplanado de C con el índice de cada elemento adjunto a este \n",
        "    tensor en la primera columna\n",
        "\n",
        "    Args:\n",
        "      - C: torch.Tensor\n",
        "\n",
        "    Returns:\n",
        "      - output: tensor concatenado/empilado\n",
        "  \"\"\"\n",
        "  # TODO: aplanar el tensor. Revisar el método torch.flatten()\n",
        "  C_flatten = ...\n",
        "\n",
        "  # TODO: crear el tensor de indices para ser concatenado al tensor aplanado\n",
        "  idx_tensor = ...\n",
        "  \n",
        "  # TODO: concatenar/empilar los dos tensores\n",
        "  output = ...\n",
        "\n",
        "  return output"
      ],
      "metadata": {
        "id": "qPfHixJ6eOkV"
      },
      "execution_count": null,
      "outputs": []
    },
    {
      "cell_type": "code",
      "source": [
        "C = torch.tensor([[2, 3], [-1, 10]])\n",
        "\n",
        "print(functionB(C))"
      ],
      "metadata": {
        "id": "_bz1BDNSfdzo"
      },
      "execution_count": null,
      "outputs": []
    },
    {
      "cell_type": "markdown",
      "source": [
        "**Función C**\n",
        "\n",
        "Esta función recibe dos tensores 2D, $D$ y $E$. Si las dimensiones lo permiten, esta función devuelve la suma elemento a elemento entre el tensor $D$ y el tensor $E$ (con el tamaño cambiado para que sea igual a $D$); de lo contrario, esta función devuelve un tensor 1D que es la concatenación de los dos tensores, por ejemplo,\n",
        "\n",
        "\n",
        "\\begin{equation}\n",
        "  \\text{Si }\n",
        "  D = \\begin{bmatrix}\n",
        "  1 & -1 \\\\\n",
        "  -1 & 3\n",
        "  \\end{bmatrix}\n",
        "  \\text{y } \n",
        "  E = \\begin{bmatrix}\n",
        "  2 & 3 & 0 & 2 \\\\\n",
        "  \\end{bmatrix}\n",
        "  \\text{ entonces } \n",
        "  Out = \\begin{bmatrix}\n",
        "  3 & 2 \\\\\n",
        "  -1 & 5\n",
        "  \\end{bmatrix}\n",
        "\\end{equation}\n",
        "\n",
        "<br>\n",
        "\n",
        "\\begin{equation}\n",
        "  \\text{Si }\n",
        "  D = \\begin{bmatrix}\n",
        "  1 & -1 \\\\\n",
        "  -1 & 3\n",
        "  \\end{bmatrix}\n",
        "  \\text{y }\n",
        "  E = \\begin{bmatrix}\n",
        "  2 & 3 & 0  \\\\\n",
        "  \\end{bmatrix}\n",
        "  \\text{ entonces }\n",
        "  Out = \\begin{bmatrix}\n",
        "  1 & -1 & -1 & 3  & 2 & 3 & 0  \n",
        "  \\end{bmatrix}\n",
        "\\end{equation}\n",
        "\n",
        "<br>\n",
        "\n",
        "**Hint:** `torch.numel()` es una manera fácil de encontrar el número de elementos en un tensor."
      ],
      "metadata": {
        "id": "8efZnNxkggur"
      }
    },
    {
      "cell_type": "code",
      "source": [
        "def functionC(D, E):\n",
        "  \"\"\"\n",
        "    Esta función recibe dos tensores 2D, D y E. Si las dimensiones lo permiten,\n",
        "    se retorna la suma elemento a alemento entre el tensor D y el tensor E\n",
        "    (cambiado de tamaño), de otro modo la función retorna un tensor 1D que es\n",
        "    la concatenación de ambos tensores\n",
        "\n",
        "    Args:\n",
        "      - D: torch.Tensor\n",
        "      - E: torch.Tensor\n",
        "\n",
        "    Returns:\n",
        "      - output: torch.Tensor\n",
        "  \"\"\"\n",
        "  # TODO: verificar si es posible cambiar el tamaño del tensor E para que sea\n",
        "  #       igual al tensor D. Revisar el método torch.numel()\n",
        "  if ...:\n",
        "    # TODO: cambiar el tamaño de E\n",
        "    E = ...\n",
        "    # TODO: sumar ambos tensores\n",
        "    output = ...\n",
        "  else:\n",
        "    # TODO: aplanar ambos vectores (flatten)\n",
        "    D = ...\n",
        "    E = ...\n",
        "    # TODO: concatenar ambos vectores aplanados\n",
        "    output = ...\n",
        "\n",
        "  return output"
      ],
      "metadata": {
        "id": "GE1kCeRKihKG"
      },
      "execution_count": null,
      "outputs": []
    },
    {
      "cell_type": "code",
      "source": [
        "# Caso 1\n",
        "D = torch.tensor([[1, -1], [-1, 3]])\n",
        "E = torch.tensor([[2,3,0,2]])\n",
        "\n",
        "print(functionC(D, E))"
      ],
      "metadata": {
        "id": "zeMk8TBykCI3"
      },
      "execution_count": null,
      "outputs": []
    },
    {
      "cell_type": "code",
      "source": [
        "# Caso 2\n",
        "D = torch.tensor([[1, -1], [-1, 3]])\n",
        "E = torch.tensor([[2,3,0]])\n",
        "\n",
        "print(functionC(D, E))"
      ],
      "metadata": {
        "id": "1NBP5-94kQnl"
      },
      "execution_count": null,
      "outputs": []
    },
    {
      "cell_type": "markdown",
      "source": [
        "## 4. Indexación\n",
        "\n",
        "Complete las siguientes funciones usando indexación:"
      ],
      "metadata": {
        "id": "GaNRygIP6IyS"
      }
    },
    {
      "cell_type": "markdown",
      "source": [
        "**Función D**\n",
        "\n",
        "Dado el siguiente tensor:\n",
        "\n",
        "\\begin{equation}\n",
        "  X = \\begin{bmatrix}\n",
        "  0 & 1 & 2 & 3 \\\\\n",
        "  4 & 5 & 6 & 7 \\\\\n",
        "  8 & 9 & 10 & 11 \\\\\n",
        "  12 & 13 & 14 & 15 \\\\\n",
        "  16 & 17 & 18 & 19 \\\\\n",
        "  \\end{bmatrix}\n",
        "\\end{equation}\n",
        "\n",
        "Complete la función con el código que falta para crear los siguientes tensores:\n",
        "\n",
        "- $A:$ tensor de tamaño (2,4) conteniendo la segunda y tercera fila del tensor $X$. Salida esperada:\n",
        "\\begin{equation}\n",
        " A = \\begin{bmatrix}\n",
        "  4 & 5 & 6 & 7 \\\\\n",
        "  8 & 9 & 10 & 11 \\\\\n",
        " \\end{bmatrix}\n",
        "\\end{equation}\n",
        "- $B:$ tensor columna de tamaño (5,1) conteniendo la última columna del tensor $X$. Salida esperada:\n",
        "\\begin{equation}\n",
        " A = \\begin{bmatrix}\n",
        "  3  \\\\\n",
        "  7  \\\\\n",
        "  11 \\\\\n",
        "  15 \\\\\n",
        "  19 \\\\\n",
        " \\end{bmatrix}\n",
        "\\end{equation}\n",
        "- $C:$ tensor de tamaño (2,2) conteniendo elementos de la tercera y cuarta fila, asi como de la segunda y tercera columna. Salida esperada:\n",
        "\n",
        "\\begin{equation}\n",
        " C = \\begin{bmatrix}\n",
        "  9 & 10 \\\\\n",
        "  13 & 14 \\\\\n",
        " \\end{bmatrix}\n",
        "\\end{equation}\n",
        "- $D:$ tensor copia de $X$ con las siguientes modificaciones:\n",
        "\\begin{equation}\n",
        " D = \\begin{bmatrix}\n",
        "  0 & 0 & 999 & 999 \\\\\n",
        "  0 & 0 & 999 & 999 \\\\\n",
        "  8 & 9 & 10 & 11 \\\\\n",
        "  12 & 13 & 14 & 15 \\\\\n",
        "  -999 & -999 & -999 & -1 \\\\\n",
        "  \\end{bmatrix}\n",
        "\\end{equation}\n",
        "  Debe modificar la copia usando indexación"
      ],
      "metadata": {
        "id": "1e5je714xyem"
      }
    },
    {
      "cell_type": "code",
      "source": [
        "def functionD(X):\n",
        "  \"\"\"\n",
        "    Función que crea varios tensores usando indexación sobre el tensor de entrada.\n",
        "\n",
        "    Args:\n",
        "      - X: tensor original\n",
        "      \n",
        "    Returns:\n",
        "      - A: tensor de tamaño (2,4) conteniendo la segunda y tercera fila de X\n",
        "      - B: tensor columna de tamaño (5,1) conteniendo la última columna de X\n",
        "      - C: tensor de tamaño (2,2) conteniendo elementos de la tercera y cuarta \n",
        "           fila, asi como de la segunda y tercera columna.\n",
        "      - D: tensor copia de X donde los elementas de la submatriz desde (0,0) \n",
        "           hasta (1,1) son iguales a 0, desde (0,2) hasta (1,3) son iguales a 999\n",
        "           las tres primeras columnas de la última fila son iguales a -999 y \n",
        "           la última fila y columna es igual a -1\n",
        "  \"\"\" \n",
        "  ##################################################\n",
        "  ## TODO: completar las siguientes lineas de código\n",
        "  ##################################################\n",
        "  A = ...\n",
        "  B = ...\n",
        "  C = ...\n",
        "  D = ...\n",
        "\n",
        "  return A, B, C, D"
      ],
      "metadata": {
        "id": "Hi17PF338hFU"
      },
      "execution_count": null,
      "outputs": []
    },
    {
      "cell_type": "code",
      "source": [
        "# TODO: Crear el tensor X usando arange y view o reshape\n",
        "X = ...\n",
        "print(\"Tensor X:\")\n",
        "print(X)\n",
        "print(\"\\n\")\n",
        "\n",
        "A, B, C, D = functionD(X)\n",
        "\n",
        "print(\"Tensor A:\")\n",
        "print(A)\n",
        "print(\"Tamaño:\", A.size())\n",
        "print(\"\\nTensor B:\")\n",
        "print(B)\n",
        "print(\"Tamaño:\", B.size())\n",
        "print(\"\\nTensor C:\")\n",
        "print(C)\n",
        "print(\"Tamaño:\", C.size())\n",
        "print(\"\\nTensor D:\")\n",
        "print(D)\n",
        "print(\"Tamaño:\", D.size())"
      ],
      "metadata": {
        "id": "tdpJAMLo_yk8"
      },
      "execution_count": null,
      "outputs": []
    },
    {
      "cell_type": "markdown",
      "source": [
        "**Función E**\n",
        "\n",
        "Esta función permite crear un tensor $X \\in R^{4 \\times 4}$ lleno de ceros y la secuencia $[0, 1, 2, 3]$ a lo largo de la diagonal como lo mostrado a continuación:\n",
        "\n",
        "\\begin{equation}\n",
        "  X = \\begin{bmatrix}\n",
        "  0 & 0 & 0 & 0 \\\\\n",
        "  0 & 1 & 0 & 0 \\\\\n",
        "  0 & 0 & 2 & 0 \\\\\n",
        "  0 & 0 & 0 & 3 \\\\\n",
        "  \\end{bmatrix}\n",
        "\\end{equation}\n"
      ],
      "metadata": {
        "id": "rDloJ2AW88ih"
      }
    },
    {
      "cell_type": "code",
      "source": [
        "def functionE():\n",
        "  \"\"\"\n",
        "    Esta función retorna un tensor 2D lleno de ceros y la secuencia [0,1,2,3] en\n",
        "    la diagonal\n",
        "\n",
        "    Returns:\n",
        "      - X: torch.Tensor\n",
        "  \"\"\"\n",
        "  # TODO: Crear tensor de ceros del tipo long\n",
        "  X = ...\n",
        "\n",
        "  # TODO: Crear tensor con la secuencia [0,1,2,3], puede usar arange\n",
        "  indices = ...\n",
        "\n",
        "  # TODO: Usando indexación modificar el tensor X de tal forma que la diagonal\n",
        "  #       contenga el tensor de indices\n",
        "  X[..., ...] = ...\n",
        "\n",
        "  return X"
      ],
      "metadata": {
        "id": "ooi6tluA9xiW"
      },
      "execution_count": null,
      "outputs": []
    },
    {
      "cell_type": "code",
      "source": [
        "print(functionE())"
      ],
      "metadata": {
        "id": "reQ-STsR-sQJ"
      },
      "execution_count": null,
      "outputs": []
    },
    {
      "cell_type": "markdown",
      "source": [
        "**Función F**\n",
        "\n",
        "Esta función recibe un tensor $X \\in R^{4 \\times 3}$ y cambia un elemento en cada fila:\n",
        "\n",
        "`X[0,2] = -1`\n",
        "\n",
        "`X[1,1] = 0`\n",
        "\n",
        "`X[2,0] = 1`\n",
        "\n",
        "`X[3,1] = 2`\n",
        "\n",
        "Por lo tanto, si el tensor $X$ es:\n",
        "\n",
        "\\begin{equation}\n",
        "  X = \\begin{bmatrix}\n",
        "  0 & 1 & 2 \\\\\n",
        "  3 & 4 & 5 \\\\\n",
        "  6 & 7 & 8 \\\\\n",
        "  9 & 10 & 11 \\\\\n",
        "  \\end{bmatrix}\n",
        "\\end{equation}\n",
        "\n",
        "Luego de cambiar los elementos de cada fila se obtiene:\n",
        "\\begin{equation}\n",
        "  X = \\begin{bmatrix}\n",
        "  0 & 1 & -1 \\\\\n",
        "  3 & 0 & 5 \\\\\n",
        "  1 & 7 & 8 \\\\\n",
        "  9 & 2 & 11 \\\\\n",
        "  \\end{bmatrix}\n",
        "\\end{equation}\n",
        "\n",
        "Debe modificar los valores usando indexación"
      ],
      "metadata": {
        "id": "I-kIUcFX-xJU"
      }
    },
    {
      "cell_type": "code",
      "source": [
        "def functionF(X):\n",
        "  \"\"\"\n",
        "    Esta función recibe un tensor de tamaño (4,3) y retorna el tensor\n",
        "    modificando valores de las filas X[0,2] = -1, X[1,1] = 0, X[2,0] = 1\n",
        "    y X[3,1] = 2\n",
        "\n",
        "    Returns:\n",
        "      - X: tensor modificado\n",
        "  \"\"\"\n",
        "  # TODO: Crear tensor con la secuencia [0,1,2,3], puede usar arange\n",
        "  indices = ...\n",
        "\n",
        "  # TODO: Usando indexación modificar el tensor X\n",
        "  X[..., ...] = ..."
      ],
      "metadata": {
        "id": "Ese9K1D3IDAk"
      },
      "execution_count": null,
      "outputs": []
    },
    {
      "cell_type": "code",
      "source": [
        "# TODO: Crear el tensor X usando arange y view o reshape\n",
        "X = ...\n",
        "print(\"Tensor X:\")\n",
        "print(X)\n",
        "print(\"\\n\")\n",
        "\n",
        "print(\"Tensor luego de cambiar valores:\")\n",
        "functionF(X)\n",
        "print(X)"
      ],
      "metadata": {
        "id": "icdU9xOQI59y"
      },
      "execution_count": null,
      "outputs": []
    },
    {
      "cell_type": "markdown",
      "source": [
        "## 5. ¿Cuánto más rápidas son las GPU?\n",
        "\n",
        "En este ejercicio medirá el tiempo de ejecuciones de algunas operaciones en CPU y GPU. A continuación se muestra la función auxiliar `timeFun(f, dim, iterations, device)` para medir el tiempo de ejecución."
      ],
      "metadata": {
        "id": "KKLaLSPOrHdO"
      }
    },
    {
      "cell_type": "code",
      "source": [
        "import time\n",
        "\n",
        "def timeFun(f, dim, iterations, device='cpu'):\n",
        "  \"\"\"\n",
        "    Función auxiliar para calcular la cantidad de tiempo necesario por \n",
        "    instancia en CPU/GPU\n",
        "\n",
        "    Args:\n",
        "     - f: nombre de la función para la que se calcula la complejidad del tiempo \n",
        "          computacional\n",
        "     - dim: número de dimensiones en la instancia en cuestión\n",
        "     - iterations: número de iteraciones para la instancia en cuestión\n",
        "     - device: dispositivo en el que se ejecutará el cálculo respectivo\n",
        "  \"\"\"\n",
        "  t_total = 0\n",
        "  for _ in range(iterations):\n",
        "    start = time.time()\n",
        "    f(dim, device)\n",
        "    end = time.time()\n",
        "    t_total += end - start\n",
        "\n",
        "  if device == 'cpu':\n",
        "    print(f\"tiempo para {iterations} iteraciones de{f.__name__}({dim}, {device}): {t_total:.5f}\")\n",
        "  else:\n",
        "    print(f\"tiempo para {iterations} iteraciones de {f.__name__}({dim}, {device}): {t_total:.5f}\")"
      ],
      "metadata": {
        "id": "WOzR7W0_rerQ"
      },
      "execution_count": null,
      "outputs": []
    },
    {
      "cell_type": "markdown",
      "source": [
        "### Función simple\n",
        "\n",
        "A continuación se muestra una función simple `simpleFun`. Completar esta función de manera que realice las operaciones:\n",
        "\n",
        "- Multiplicación por elementos\n",
        "- Multiplicación de matrices\n",
        "\n",
        "Las operaciones deberían poder realizarse en la CPU o GPU especificada por el parámetro `device`. Usaremos la función auxiliar `timeFun(f, dim, iterations, device)` para medir el tiempo de ejecución."
      ],
      "metadata": {
        "id": "D1vPAZY6sXAj"
      }
    },
    {
      "cell_type": "code",
      "source": [
        "dim = 10000\n",
        "iterations = 1"
      ],
      "metadata": {
        "id": "AXpeRpVwtHAK"
      },
      "execution_count": null,
      "outputs": []
    },
    {
      "cell_type": "code",
      "source": [
        "def simpleFun(dim, device):\n",
        "  \"\"\"\n",
        "    Función para verificar la compatibilidad del dispositivo con los cálculos\n",
        "\n",
        "    Args:\n",
        "      - dim: entero representando las dimensiones\n",
        "      - device: \"cpu\" or \"cuda\"\n",
        "  \"\"\"\n",
        "  # TODO: tensor 2D conteniendo números aleatorios uniformes en [0,1)\n",
        "  #       el tamaño del tensor es (dim, dim)\n",
        "  #       No olvidarse de especificar el dispositivo donde se realizarán las\n",
        "  #       operaciones, recordar método .to()\n",
        "  x = ...\n",
        "\n",
        "  # TODO: tensor 2D conteniendo números aleatorios uniformes en [0,1)\n",
        "  #       el tamaño del tensor es (dim, dim)\n",
        "  #       No olvidarse de especificar el dispositivo donde se realizarán las\n",
        "  #       operaciones, recordar método .to()  \n",
        "  y = ...\n",
        "\n",
        "  # TODO: tensor 2D conteniendo el valor escalar 2\n",
        "  #       el tamaño del tensor es (dim, dim)\n",
        "  #       No olvidarse de especificar el dispositivo donde se realizarán las\n",
        "  #       operaciones, recordar método .to()  \n",
        "  z = ...\n",
        "\n",
        "  # TODO: realizar la multiplicación elemento a elemento de x e y\n",
        "  a = ...\n",
        "\n",
        "  # TODO: realizar la multiplicación de matrices entre x y z\n",
        "  b = ...\n",
        "\n",
        "  del x\n",
        "  del y\n",
        "  del z\n",
        "  del a\n",
        "  del b\n"
      ],
      "metadata": {
        "id": "zqpydmzVtQeI"
      },
      "execution_count": null,
      "outputs": []
    },
    {
      "cell_type": "markdown",
      "source": [
        "Especificar el dispositivo en el que se realizarán las operaciones, verificar si cuda está disponible:"
      ],
      "metadata": {
        "id": "-ZZ7gOsZuxCP"
      }
    },
    {
      "cell_type": "code",
      "source": [
        "device = ..."
      ],
      "metadata": {
        "id": "pL7T-rOtu5hn"
      },
      "execution_count": null,
      "outputs": []
    },
    {
      "cell_type": "markdown",
      "source": [
        "Probaremos el tiempo de ejecución del método implementado"
      ],
      "metadata": {
        "id": "-Y2ppgwTu8PY"
      }
    },
    {
      "cell_type": "code",
      "source": [
        "timeFun(f=simpleFun, dim=dim, iterations=iterations)\n",
        "timeFun(f=simpleFun, dim=dim, iterations=iterations, device=device)"
      ],
      "metadata": {
        "id": "ukdACGN5u8i_"
      },
      "execution_count": null,
      "outputs": []
    },
    {
      "cell_type": "markdown",
      "source": [
        "**Referencia**\n",
        "\n",
        "1. [Neuromatch Academy: Deep Learning](https://deeplearning.neuromatch.io/tutorials/intro.html)"
      ],
      "metadata": {
        "id": "YDC_2Ju_vnFF"
      }
    }
  ]
}